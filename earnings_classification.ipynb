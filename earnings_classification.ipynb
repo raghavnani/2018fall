{
  "nbformat": 4,
  "nbformat_minor": 0,
  "metadata": {
    "colab": {
      "name": "earnings_classification.ipynb",
      "provenance": [],
      "collapsed_sections": [],
      "toc_visible": true,
      "authorship_tag": "ABX9TyMhUp3VjlNrA7tIgjbH/+mW",
      "include_colab_link": true
    },
    "kernelspec": {
      "name": "python3",
      "display_name": "Python 3"
    },
    "accelerator": "GPU",
    "widgets": {
      "application/vnd.jupyter.widget-state+json": {
        "dca4c7658d6a4a7292e9d00d816882c8": {
          "model_module": "@jupyter-widgets/controls",
          "model_name": "HBoxModel",
          "state": {
            "_view_name": "HBoxView",
            "_dom_classes": [],
            "_model_name": "HBoxModel",
            "_view_module": "@jupyter-widgets/controls",
            "_model_module_version": "1.5.0",
            "_view_count": null,
            "_view_module_version": "1.5.0",
            "box_style": "",
            "layout": "IPY_MODEL_8b6a05322c7144f7a7710e442547416a",
            "_model_module": "@jupyter-widgets/controls",
            "children": [
              "IPY_MODEL_4de3d1c59bbe40ec89d2ab4ee242d17e",
              "IPY_MODEL_12e508aaa2c841ea9ce9f153d1b16d06"
            ]
          }
        },
        "8b6a05322c7144f7a7710e442547416a": {
          "model_module": "@jupyter-widgets/base",
          "model_name": "LayoutModel",
          "state": {
            "_view_name": "LayoutView",
            "grid_template_rows": null,
            "right": null,
            "justify_content": null,
            "_view_module": "@jupyter-widgets/base",
            "overflow": null,
            "_model_module_version": "1.2.0",
            "_view_count": null,
            "flex_flow": null,
            "width": null,
            "min_width": null,
            "border": null,
            "align_items": null,
            "bottom": null,
            "_model_module": "@jupyter-widgets/base",
            "top": null,
            "grid_column": null,
            "overflow_y": null,
            "overflow_x": null,
            "grid_auto_flow": null,
            "grid_area": null,
            "grid_template_columns": null,
            "flex": null,
            "_model_name": "LayoutModel",
            "justify_items": null,
            "grid_row": null,
            "max_height": null,
            "align_content": null,
            "visibility": null,
            "align_self": null,
            "height": null,
            "min_height": null,
            "padding": null,
            "grid_auto_rows": null,
            "grid_gap": null,
            "max_width": null,
            "order": null,
            "_view_module_version": "1.2.0",
            "grid_template_areas": null,
            "object_position": null,
            "object_fit": null,
            "grid_auto_columns": null,
            "margin": null,
            "display": null,
            "left": null
          }
        },
        "4de3d1c59bbe40ec89d2ab4ee242d17e": {
          "model_module": "@jupyter-widgets/controls",
          "model_name": "IntProgressModel",
          "state": {
            "_view_name": "ProgressView",
            "style": "IPY_MODEL_61d09b96edc74fa8af01fde9fce38063",
            "_dom_classes": [],
            "description": "Downloading",
            "_model_name": "IntProgressModel",
            "bar_style": "success",
            "max": 231508,
            "_view_module": "@jupyter-widgets/controls",
            "_model_module_version": "1.5.0",
            "value": 231508,
            "_view_count": null,
            "_view_module_version": "1.5.0",
            "orientation": "horizontal",
            "min": 0,
            "description_tooltip": null,
            "_model_module": "@jupyter-widgets/controls",
            "layout": "IPY_MODEL_ed58ce906b51408287fa5ec193ea853c"
          }
        },
        "12e508aaa2c841ea9ce9f153d1b16d06": {
          "model_module": "@jupyter-widgets/controls",
          "model_name": "HTMLModel",
          "state": {
            "_view_name": "HTMLView",
            "style": "IPY_MODEL_92e2bd90c19b4c8897efb19ac9513640",
            "_dom_classes": [],
            "description": "",
            "_model_name": "HTMLModel",
            "placeholder": "​",
            "_view_module": "@jupyter-widgets/controls",
            "_model_module_version": "1.5.0",
            "value": "100% 232k/232k [00:00&lt;00:00, 1.27MB/s]",
            "_view_count": null,
            "_view_module_version": "1.5.0",
            "description_tooltip": null,
            "_model_module": "@jupyter-widgets/controls",
            "layout": "IPY_MODEL_373612021eb74ff58c3e4441534edd29"
          }
        },
        "61d09b96edc74fa8af01fde9fce38063": {
          "model_module": "@jupyter-widgets/controls",
          "model_name": "ProgressStyleModel",
          "state": {
            "_view_name": "StyleView",
            "_model_name": "ProgressStyleModel",
            "description_width": "initial",
            "_view_module": "@jupyter-widgets/base",
            "_model_module_version": "1.5.0",
            "_view_count": null,
            "_view_module_version": "1.2.0",
            "bar_color": null,
            "_model_module": "@jupyter-widgets/controls"
          }
        },
        "ed58ce906b51408287fa5ec193ea853c": {
          "model_module": "@jupyter-widgets/base",
          "model_name": "LayoutModel",
          "state": {
            "_view_name": "LayoutView",
            "grid_template_rows": null,
            "right": null,
            "justify_content": null,
            "_view_module": "@jupyter-widgets/base",
            "overflow": null,
            "_model_module_version": "1.2.0",
            "_view_count": null,
            "flex_flow": null,
            "width": null,
            "min_width": null,
            "border": null,
            "align_items": null,
            "bottom": null,
            "_model_module": "@jupyter-widgets/base",
            "top": null,
            "grid_column": null,
            "overflow_y": null,
            "overflow_x": null,
            "grid_auto_flow": null,
            "grid_area": null,
            "grid_template_columns": null,
            "flex": null,
            "_model_name": "LayoutModel",
            "justify_items": null,
            "grid_row": null,
            "max_height": null,
            "align_content": null,
            "visibility": null,
            "align_self": null,
            "height": null,
            "min_height": null,
            "padding": null,
            "grid_auto_rows": null,
            "grid_gap": null,
            "max_width": null,
            "order": null,
            "_view_module_version": "1.2.0",
            "grid_template_areas": null,
            "object_position": null,
            "object_fit": null,
            "grid_auto_columns": null,
            "margin": null,
            "display": null,
            "left": null
          }
        },
        "92e2bd90c19b4c8897efb19ac9513640": {
          "model_module": "@jupyter-widgets/controls",
          "model_name": "DescriptionStyleModel",
          "state": {
            "_view_name": "StyleView",
            "_model_name": "DescriptionStyleModel",
            "description_width": "",
            "_view_module": "@jupyter-widgets/base",
            "_model_module_version": "1.5.0",
            "_view_count": null,
            "_view_module_version": "1.2.0",
            "_model_module": "@jupyter-widgets/controls"
          }
        },
        "373612021eb74ff58c3e4441534edd29": {
          "model_module": "@jupyter-widgets/base",
          "model_name": "LayoutModel",
          "state": {
            "_view_name": "LayoutView",
            "grid_template_rows": null,
            "right": null,
            "justify_content": null,
            "_view_module": "@jupyter-widgets/base",
            "overflow": null,
            "_model_module_version": "1.2.0",
            "_view_count": null,
            "flex_flow": null,
            "width": null,
            "min_width": null,
            "border": null,
            "align_items": null,
            "bottom": null,
            "_model_module": "@jupyter-widgets/base",
            "top": null,
            "grid_column": null,
            "overflow_y": null,
            "overflow_x": null,
            "grid_auto_flow": null,
            "grid_area": null,
            "grid_template_columns": null,
            "flex": null,
            "_model_name": "LayoutModel",
            "justify_items": null,
            "grid_row": null,
            "max_height": null,
            "align_content": null,
            "visibility": null,
            "align_self": null,
            "height": null,
            "min_height": null,
            "padding": null,
            "grid_auto_rows": null,
            "grid_gap": null,
            "max_width": null,
            "order": null,
            "_view_module_version": "1.2.0",
            "grid_template_areas": null,
            "object_position": null,
            "object_fit": null,
            "grid_auto_columns": null,
            "margin": null,
            "display": null,
            "left": null
          }
        },
        "1cfb9cd4303244a98a4f1ef018f32198": {
          "model_module": "@jupyter-widgets/controls",
          "model_name": "HBoxModel",
          "state": {
            "_view_name": "HBoxView",
            "_dom_classes": [],
            "_model_name": "HBoxModel",
            "_view_module": "@jupyter-widgets/controls",
            "_model_module_version": "1.5.0",
            "_view_count": null,
            "_view_module_version": "1.5.0",
            "box_style": "",
            "layout": "IPY_MODEL_f87c20e236ae40f49573a035681ccc37",
            "_model_module": "@jupyter-widgets/controls",
            "children": [
              "IPY_MODEL_94111516fc4446ef8b9ffe67930aa9dd",
              "IPY_MODEL_34651a46653a45dda6cf11059c1c748a"
            ]
          }
        },
        "f87c20e236ae40f49573a035681ccc37": {
          "model_module": "@jupyter-widgets/base",
          "model_name": "LayoutModel",
          "state": {
            "_view_name": "LayoutView",
            "grid_template_rows": null,
            "right": null,
            "justify_content": null,
            "_view_module": "@jupyter-widgets/base",
            "overflow": null,
            "_model_module_version": "1.2.0",
            "_view_count": null,
            "flex_flow": null,
            "width": null,
            "min_width": null,
            "border": null,
            "align_items": null,
            "bottom": null,
            "_model_module": "@jupyter-widgets/base",
            "top": null,
            "grid_column": null,
            "overflow_y": null,
            "overflow_x": null,
            "grid_auto_flow": null,
            "grid_area": null,
            "grid_template_columns": null,
            "flex": null,
            "_model_name": "LayoutModel",
            "justify_items": null,
            "grid_row": null,
            "max_height": null,
            "align_content": null,
            "visibility": null,
            "align_self": null,
            "height": null,
            "min_height": null,
            "padding": null,
            "grid_auto_rows": null,
            "grid_gap": null,
            "max_width": null,
            "order": null,
            "_view_module_version": "1.2.0",
            "grid_template_areas": null,
            "object_position": null,
            "object_fit": null,
            "grid_auto_columns": null,
            "margin": null,
            "display": null,
            "left": null
          }
        },
        "94111516fc4446ef8b9ffe67930aa9dd": {
          "model_module": "@jupyter-widgets/controls",
          "model_name": "IntProgressModel",
          "state": {
            "_view_name": "ProgressView",
            "style": "IPY_MODEL_3de4ce4f5c324ddfa4fd192779849ef5",
            "_dom_classes": [],
            "description": "Downloading",
            "_model_name": "IntProgressModel",
            "bar_style": "success",
            "max": 361,
            "_view_module": "@jupyter-widgets/controls",
            "_model_module_version": "1.5.0",
            "value": 361,
            "_view_count": null,
            "_view_module_version": "1.5.0",
            "orientation": "horizontal",
            "min": 0,
            "description_tooltip": null,
            "_model_module": "@jupyter-widgets/controls",
            "layout": "IPY_MODEL_0691c08ece074420a16bb862e9367f83"
          }
        },
        "34651a46653a45dda6cf11059c1c748a": {
          "model_module": "@jupyter-widgets/controls",
          "model_name": "HTMLModel",
          "state": {
            "_view_name": "HTMLView",
            "style": "IPY_MODEL_e9971f1856f14926b1fb4f5729d417e3",
            "_dom_classes": [],
            "description": "",
            "_model_name": "HTMLModel",
            "placeholder": "​",
            "_view_module": "@jupyter-widgets/controls",
            "_model_module_version": "1.5.0",
            "value": "100% 361/361 [00:00&lt;00:00, 17.5kB/s]",
            "_view_count": null,
            "_view_module_version": "1.5.0",
            "description_tooltip": null,
            "_model_module": "@jupyter-widgets/controls",
            "layout": "IPY_MODEL_80f318f251e04412b796ee22c51d00ef"
          }
        },
        "3de4ce4f5c324ddfa4fd192779849ef5": {
          "model_module": "@jupyter-widgets/controls",
          "model_name": "ProgressStyleModel",
          "state": {
            "_view_name": "StyleView",
            "_model_name": "ProgressStyleModel",
            "description_width": "initial",
            "_view_module": "@jupyter-widgets/base",
            "_model_module_version": "1.5.0",
            "_view_count": null,
            "_view_module_version": "1.2.0",
            "bar_color": null,
            "_model_module": "@jupyter-widgets/controls"
          }
        },
        "0691c08ece074420a16bb862e9367f83": {
          "model_module": "@jupyter-widgets/base",
          "model_name": "LayoutModel",
          "state": {
            "_view_name": "LayoutView",
            "grid_template_rows": null,
            "right": null,
            "justify_content": null,
            "_view_module": "@jupyter-widgets/base",
            "overflow": null,
            "_model_module_version": "1.2.0",
            "_view_count": null,
            "flex_flow": null,
            "width": null,
            "min_width": null,
            "border": null,
            "align_items": null,
            "bottom": null,
            "_model_module": "@jupyter-widgets/base",
            "top": null,
            "grid_column": null,
            "overflow_y": null,
            "overflow_x": null,
            "grid_auto_flow": null,
            "grid_area": null,
            "grid_template_columns": null,
            "flex": null,
            "_model_name": "LayoutModel",
            "justify_items": null,
            "grid_row": null,
            "max_height": null,
            "align_content": null,
            "visibility": null,
            "align_self": null,
            "height": null,
            "min_height": null,
            "padding": null,
            "grid_auto_rows": null,
            "grid_gap": null,
            "max_width": null,
            "order": null,
            "_view_module_version": "1.2.0",
            "grid_template_areas": null,
            "object_position": null,
            "object_fit": null,
            "grid_auto_columns": null,
            "margin": null,
            "display": null,
            "left": null
          }
        },
        "e9971f1856f14926b1fb4f5729d417e3": {
          "model_module": "@jupyter-widgets/controls",
          "model_name": "DescriptionStyleModel",
          "state": {
            "_view_name": "StyleView",
            "_model_name": "DescriptionStyleModel",
            "description_width": "",
            "_view_module": "@jupyter-widgets/base",
            "_model_module_version": "1.5.0",
            "_view_count": null,
            "_view_module_version": "1.2.0",
            "_model_module": "@jupyter-widgets/controls"
          }
        },
        "80f318f251e04412b796ee22c51d00ef": {
          "model_module": "@jupyter-widgets/base",
          "model_name": "LayoutModel",
          "state": {
            "_view_name": "LayoutView",
            "grid_template_rows": null,
            "right": null,
            "justify_content": null,
            "_view_module": "@jupyter-widgets/base",
            "overflow": null,
            "_model_module_version": "1.2.0",
            "_view_count": null,
            "flex_flow": null,
            "width": null,
            "min_width": null,
            "border": null,
            "align_items": null,
            "bottom": null,
            "_model_module": "@jupyter-widgets/base",
            "top": null,
            "grid_column": null,
            "overflow_y": null,
            "overflow_x": null,
            "grid_auto_flow": null,
            "grid_area": null,
            "grid_template_columns": null,
            "flex": null,
            "_model_name": "LayoutModel",
            "justify_items": null,
            "grid_row": null,
            "max_height": null,
            "align_content": null,
            "visibility": null,
            "align_self": null,
            "height": null,
            "min_height": null,
            "padding": null,
            "grid_auto_rows": null,
            "grid_gap": null,
            "max_width": null,
            "order": null,
            "_view_module_version": "1.2.0",
            "grid_template_areas": null,
            "object_position": null,
            "object_fit": null,
            "grid_auto_columns": null,
            "margin": null,
            "display": null,
            "left": null
          }
        },
        "2052e558a1c94bcbb89650909d55ef84": {
          "model_module": "@jupyter-widgets/controls",
          "model_name": "HBoxModel",
          "state": {
            "_view_name": "HBoxView",
            "_dom_classes": [],
            "_model_name": "HBoxModel",
            "_view_module": "@jupyter-widgets/controls",
            "_model_module_version": "1.5.0",
            "_view_count": null,
            "_view_module_version": "1.5.0",
            "box_style": "",
            "layout": "IPY_MODEL_f2d08445420548dd8cddbc9a7c3c6143",
            "_model_module": "@jupyter-widgets/controls",
            "children": [
              "IPY_MODEL_a1367015977648a18aa1f1520483041f",
              "IPY_MODEL_edf9e30d78404b9c9fc136544e9e7159"
            ]
          }
        },
        "f2d08445420548dd8cddbc9a7c3c6143": {
          "model_module": "@jupyter-widgets/base",
          "model_name": "LayoutModel",
          "state": {
            "_view_name": "LayoutView",
            "grid_template_rows": null,
            "right": null,
            "justify_content": null,
            "_view_module": "@jupyter-widgets/base",
            "overflow": null,
            "_model_module_version": "1.2.0",
            "_view_count": null,
            "flex_flow": null,
            "width": null,
            "min_width": null,
            "border": null,
            "align_items": null,
            "bottom": null,
            "_model_module": "@jupyter-widgets/base",
            "top": null,
            "grid_column": null,
            "overflow_y": null,
            "overflow_x": null,
            "grid_auto_flow": null,
            "grid_area": null,
            "grid_template_columns": null,
            "flex": null,
            "_model_name": "LayoutModel",
            "justify_items": null,
            "grid_row": null,
            "max_height": null,
            "align_content": null,
            "visibility": null,
            "align_self": null,
            "height": null,
            "min_height": null,
            "padding": null,
            "grid_auto_rows": null,
            "grid_gap": null,
            "max_width": null,
            "order": null,
            "_view_module_version": "1.2.0",
            "grid_template_areas": null,
            "object_position": null,
            "object_fit": null,
            "grid_auto_columns": null,
            "margin": null,
            "display": null,
            "left": null
          }
        },
        "a1367015977648a18aa1f1520483041f": {
          "model_module": "@jupyter-widgets/controls",
          "model_name": "IntProgressModel",
          "state": {
            "_view_name": "ProgressView",
            "style": "IPY_MODEL_1cfbda8d2f1d4e8194ba2daf89cb7880",
            "_dom_classes": [],
            "description": "Downloading",
            "_model_name": "IntProgressModel",
            "bar_style": "success",
            "max": 536063208,
            "_view_module": "@jupyter-widgets/controls",
            "_model_module_version": "1.5.0",
            "value": 536063208,
            "_view_count": null,
            "_view_module_version": "1.5.0",
            "orientation": "horizontal",
            "min": 0,
            "description_tooltip": null,
            "_model_module": "@jupyter-widgets/controls",
            "layout": "IPY_MODEL_ddb8887e64f048efbd020eba4b333170"
          }
        },
        "edf9e30d78404b9c9fc136544e9e7159": {
          "model_module": "@jupyter-widgets/controls",
          "model_name": "HTMLModel",
          "state": {
            "_view_name": "HTMLView",
            "style": "IPY_MODEL_067738c90b6643bd93c291a9bcf03f79",
            "_dom_classes": [],
            "description": "",
            "_model_name": "HTMLModel",
            "placeholder": "​",
            "_view_module": "@jupyter-widgets/controls",
            "_model_module_version": "1.5.0",
            "value": "100% 536M/536M [00:14&lt;00:00, 36.8MB/s]",
            "_view_count": null,
            "_view_module_version": "1.5.0",
            "description_tooltip": null,
            "_model_module": "@jupyter-widgets/controls",
            "layout": "IPY_MODEL_e4d24ff764384c0aaa1391514050dfa1"
          }
        },
        "1cfbda8d2f1d4e8194ba2daf89cb7880": {
          "model_module": "@jupyter-widgets/controls",
          "model_name": "ProgressStyleModel",
          "state": {
            "_view_name": "StyleView",
            "_model_name": "ProgressStyleModel",
            "description_width": "initial",
            "_view_module": "@jupyter-widgets/base",
            "_model_module_version": "1.5.0",
            "_view_count": null,
            "_view_module_version": "1.2.0",
            "bar_color": null,
            "_model_module": "@jupyter-widgets/controls"
          }
        },
        "ddb8887e64f048efbd020eba4b333170": {
          "model_module": "@jupyter-widgets/base",
          "model_name": "LayoutModel",
          "state": {
            "_view_name": "LayoutView",
            "grid_template_rows": null,
            "right": null,
            "justify_content": null,
            "_view_module": "@jupyter-widgets/base",
            "overflow": null,
            "_model_module_version": "1.2.0",
            "_view_count": null,
            "flex_flow": null,
            "width": null,
            "min_width": null,
            "border": null,
            "align_items": null,
            "bottom": null,
            "_model_module": "@jupyter-widgets/base",
            "top": null,
            "grid_column": null,
            "overflow_y": null,
            "overflow_x": null,
            "grid_auto_flow": null,
            "grid_area": null,
            "grid_template_columns": null,
            "flex": null,
            "_model_name": "LayoutModel",
            "justify_items": null,
            "grid_row": null,
            "max_height": null,
            "align_content": null,
            "visibility": null,
            "align_self": null,
            "height": null,
            "min_height": null,
            "padding": null,
            "grid_auto_rows": null,
            "grid_gap": null,
            "max_width": null,
            "order": null,
            "_view_module_version": "1.2.0",
            "grid_template_areas": null,
            "object_position": null,
            "object_fit": null,
            "grid_auto_columns": null,
            "margin": null,
            "display": null,
            "left": null
          }
        },
        "067738c90b6643bd93c291a9bcf03f79": {
          "model_module": "@jupyter-widgets/controls",
          "model_name": "DescriptionStyleModel",
          "state": {
            "_view_name": "StyleView",
            "_model_name": "DescriptionStyleModel",
            "description_width": "",
            "_view_module": "@jupyter-widgets/base",
            "_model_module_version": "1.5.0",
            "_view_count": null,
            "_view_module_version": "1.2.0",
            "_model_module": "@jupyter-widgets/controls"
          }
        },
        "e4d24ff764384c0aaa1391514050dfa1": {
          "model_module": "@jupyter-widgets/base",
          "model_name": "LayoutModel",
          "state": {
            "_view_name": "LayoutView",
            "grid_template_rows": null,
            "right": null,
            "justify_content": null,
            "_view_module": "@jupyter-widgets/base",
            "overflow": null,
            "_model_module_version": "1.2.0",
            "_view_count": null,
            "flex_flow": null,
            "width": null,
            "min_width": null,
            "border": null,
            "align_items": null,
            "bottom": null,
            "_model_module": "@jupyter-widgets/base",
            "top": null,
            "grid_column": null,
            "overflow_y": null,
            "overflow_x": null,
            "grid_auto_flow": null,
            "grid_area": null,
            "grid_template_columns": null,
            "flex": null,
            "_model_name": "LayoutModel",
            "justify_items": null,
            "grid_row": null,
            "max_height": null,
            "align_content": null,
            "visibility": null,
            "align_self": null,
            "height": null,
            "min_height": null,
            "padding": null,
            "grid_auto_rows": null,
            "grid_gap": null,
            "max_width": null,
            "order": null,
            "_view_module_version": "1.2.0",
            "grid_template_areas": null,
            "object_position": null,
            "object_fit": null,
            "grid_auto_columns": null,
            "margin": null,
            "display": null,
            "left": null
          }
        }
      }
    }
  },
  "cells": [
    {
      "cell_type": "markdown",
      "metadata": {
        "id": "view-in-github",
        "colab_type": "text"
      },
      "source": [
        "<a href=\"https://colab.research.google.com/github/raghavnani/2018fall/blob/master/earnings_classification.ipynb\" target=\"_parent\"><img src=\"https://colab.research.google.com/assets/colab-badge.svg\" alt=\"Open In Colab\"/></a>"
      ]
    },
    {
      "cell_type": "code",
      "metadata": {
        "id": "PU7gnEIeBPSH",
        "colab_type": "code",
        "colab": {}
      },
      "source": [
        "def get_news(publishedAt , queryString = None):\n",
        "  import urllib.request\n",
        "  import json\n",
        "\n",
        "  API = \"https://api.newsfilter.io/public/actions?token=irhkg02jqfbajhelbnp99723sti4ioroisdfoauoweiuoeaei66rsyolszgdzxzv\"\n",
        "\n",
        "\n",
        "  if queryString:\n",
        "    payload = {\n",
        "      'type': \"filterArticles\",\n",
        "      'isPublic': 'true',\n",
        "      'queryString': queryString + ' AND ' + publishedAt,\n",
        "      'from': 0,\n",
        "      'size': 10000,\n",
        "      'order' : 'desc'\n",
        "    }\n",
        "  else:\n",
        "    payload = {\n",
        "      'type': \"filterArticles\",\n",
        "      'queryString': publishedAt,\n",
        "      'isPublic': 'true',\n",
        "      'from': 0,\n",
        "      'size': 10000,\n",
        "      'publishedAt': publishedAt,\n",
        "      'order' : 'desc'\n",
        "\n",
        "    }\n",
        "\n",
        "  # Format your payload to JSON bytes\n",
        "  jsondata = json.dumps(payload)\n",
        "  jsondataasbytes = jsondata.encode('utf-8')  # needs to be bytes\n",
        "\n",
        "  req = urllib.request.Request(API)\n",
        "\n",
        "  req.add_header('Content-Type', 'application/json; charset=utf-8')\n",
        "  # Set the correct length of your request\n",
        "  req.add_header('Content-Length', len(jsondataasbytes))\n",
        "\n",
        "  response = urllib.request.urlopen(req, jsondataasbytes)\n",
        "\n",
        "  res_body = response.read()\n",
        "\n",
        "  articles = json.loads(res_body.decode(\"utf-8\"))\n",
        "\n",
        "  return articles\n",
        "\n"
      ],
      "execution_count": 0,
      "outputs": []
    },
    {
      "cell_type": "code",
      "metadata": {
        "id": "cfDyGEx7eMAP",
        "colab_type": "code",
        "outputId": "ae85c40f-d1e9-4158-dc0f-ef0afb72f92a",
        "colab": {
          "base_uri": "https://localhost:8080/",
          "height": 904
        }
      },
      "source": [
        "!pip install tensorflow-gpu==2.1.0"
      ],
      "execution_count": 2,
      "outputs": [
        {
          "output_type": "stream",
          "text": [
            "Collecting tensorflow-gpu==2.1.0\n",
            "\u001b[?25l  Downloading https://files.pythonhosted.org/packages/0a/93/c7bca39b23aae45cd2e85ad3871c81eccc63b9c5276e926511e2e5b0879d/tensorflow_gpu-2.1.0-cp36-cp36m-manylinux2010_x86_64.whl (421.8MB)\n",
            "\u001b[K     |████████████████████████████████| 421.8MB 40kB/s \n",
            "\u001b[?25hRequirement already satisfied: wrapt>=1.11.1 in /usr/local/lib/python3.6/dist-packages (from tensorflow-gpu==2.1.0) (1.11.2)\n",
            "Requirement already satisfied: six>=1.12.0 in /usr/local/lib/python3.6/dist-packages (from tensorflow-gpu==2.1.0) (1.12.0)\n",
            "Requirement already satisfied: scipy==1.4.1; python_version >= \"3\" in /usr/local/lib/python3.6/dist-packages (from tensorflow-gpu==2.1.0) (1.4.1)\n",
            "Requirement already satisfied: numpy<2.0,>=1.16.0 in /usr/local/lib/python3.6/dist-packages (from tensorflow-gpu==2.1.0) (1.17.5)\n",
            "Requirement already satisfied: protobuf>=3.8.0 in /usr/local/lib/python3.6/dist-packages (from tensorflow-gpu==2.1.0) (3.10.0)\n",
            "Requirement already satisfied: keras-applications>=1.0.8 in /usr/local/lib/python3.6/dist-packages (from tensorflow-gpu==2.1.0) (1.0.8)\n",
            "Collecting tensorboard<2.2.0,>=2.1.0\n",
            "\u001b[?25l  Downloading https://files.pythonhosted.org/packages/40/23/53ffe290341cd0855d595b0a2e7485932f473798af173bbe3a584b99bb06/tensorboard-2.1.0-py3-none-any.whl (3.8MB)\n",
            "\u001b[K     |████████████████████████████████| 3.8MB 50.9MB/s \n",
            "\u001b[?25hRequirement already satisfied: absl-py>=0.7.0 in /usr/local/lib/python3.6/dist-packages (from tensorflow-gpu==2.1.0) (0.9.0)\n",
            "Requirement already satisfied: astor>=0.6.0 in /usr/local/lib/python3.6/dist-packages (from tensorflow-gpu==2.1.0) (0.8.1)\n",
            "Requirement already satisfied: google-pasta>=0.1.6 in /usr/local/lib/python3.6/dist-packages (from tensorflow-gpu==2.1.0) (0.1.8)\n",
            "Requirement already satisfied: gast==0.2.2 in /usr/local/lib/python3.6/dist-packages (from tensorflow-gpu==2.1.0) (0.2.2)\n",
            "Requirement already satisfied: keras-preprocessing>=1.1.0 in /usr/local/lib/python3.6/dist-packages (from tensorflow-gpu==2.1.0) (1.1.0)\n",
            "Collecting tensorflow-estimator<2.2.0,>=2.1.0rc0\n",
            "\u001b[?25l  Downloading https://files.pythonhosted.org/packages/18/90/b77c328a1304437ab1310b463e533fa7689f4bfc41549593056d812fab8e/tensorflow_estimator-2.1.0-py2.py3-none-any.whl (448kB)\n",
            "\u001b[K     |████████████████████████████████| 450kB 77.0MB/s \n",
            "\u001b[?25hRequirement already satisfied: termcolor>=1.1.0 in /usr/local/lib/python3.6/dist-packages (from tensorflow-gpu==2.1.0) (1.1.0)\n",
            "Requirement already satisfied: grpcio>=1.8.6 in /usr/local/lib/python3.6/dist-packages (from tensorflow-gpu==2.1.0) (1.27.1)\n",
            "Requirement already satisfied: wheel>=0.26; python_version >= \"3\" in /usr/local/lib/python3.6/dist-packages (from tensorflow-gpu==2.1.0) (0.34.2)\n",
            "Requirement already satisfied: opt-einsum>=2.3.2 in /usr/local/lib/python3.6/dist-packages (from tensorflow-gpu==2.1.0) (3.1.0)\n",
            "Requirement already satisfied: setuptools in /usr/local/lib/python3.6/dist-packages (from protobuf>=3.8.0->tensorflow-gpu==2.1.0) (45.1.0)\n",
            "Requirement already satisfied: h5py in /usr/local/lib/python3.6/dist-packages (from keras-applications>=1.0.8->tensorflow-gpu==2.1.0) (2.8.0)\n",
            "Requirement already satisfied: markdown>=2.6.8 in /usr/local/lib/python3.6/dist-packages (from tensorboard<2.2.0,>=2.1.0->tensorflow-gpu==2.1.0) (3.2.1)\n",
            "Requirement already satisfied: google-auth-oauthlib<0.5,>=0.4.1 in /usr/local/lib/python3.6/dist-packages (from tensorboard<2.2.0,>=2.1.0->tensorflow-gpu==2.1.0) (0.4.1)\n",
            "Requirement already satisfied: requests<3,>=2.21.0 in /usr/local/lib/python3.6/dist-packages (from tensorboard<2.2.0,>=2.1.0->tensorflow-gpu==2.1.0) (2.21.0)\n",
            "Requirement already satisfied: werkzeug>=0.11.15 in /usr/local/lib/python3.6/dist-packages (from tensorboard<2.2.0,>=2.1.0->tensorflow-gpu==2.1.0) (1.0.0)\n",
            "Requirement already satisfied: google-auth<2,>=1.6.3 in /usr/local/lib/python3.6/dist-packages (from tensorboard<2.2.0,>=2.1.0->tensorflow-gpu==2.1.0) (1.7.2)\n",
            "Requirement already satisfied: requests-oauthlib>=0.7.0 in /usr/local/lib/python3.6/dist-packages (from google-auth-oauthlib<0.5,>=0.4.1->tensorboard<2.2.0,>=2.1.0->tensorflow-gpu==2.1.0) (1.3.0)\n",
            "Requirement already satisfied: urllib3<1.25,>=1.21.1 in /usr/local/lib/python3.6/dist-packages (from requests<3,>=2.21.0->tensorboard<2.2.0,>=2.1.0->tensorflow-gpu==2.1.0) (1.24.3)\n",
            "Requirement already satisfied: chardet<3.1.0,>=3.0.2 in /usr/local/lib/python3.6/dist-packages (from requests<3,>=2.21.0->tensorboard<2.2.0,>=2.1.0->tensorflow-gpu==2.1.0) (3.0.4)\n",
            "Requirement already satisfied: certifi>=2017.4.17 in /usr/local/lib/python3.6/dist-packages (from requests<3,>=2.21.0->tensorboard<2.2.0,>=2.1.0->tensorflow-gpu==2.1.0) (2019.11.28)\n",
            "Requirement already satisfied: idna<2.9,>=2.5 in /usr/local/lib/python3.6/dist-packages (from requests<3,>=2.21.0->tensorboard<2.2.0,>=2.1.0->tensorflow-gpu==2.1.0) (2.8)\n",
            "Requirement already satisfied: cachetools<3.2,>=2.0.0 in /usr/local/lib/python3.6/dist-packages (from google-auth<2,>=1.6.3->tensorboard<2.2.0,>=2.1.0->tensorflow-gpu==2.1.0) (3.1.1)\n",
            "Requirement already satisfied: pyasn1-modules>=0.2.1 in /usr/local/lib/python3.6/dist-packages (from google-auth<2,>=1.6.3->tensorboard<2.2.0,>=2.1.0->tensorflow-gpu==2.1.0) (0.2.8)\n",
            "Requirement already satisfied: rsa<4.1,>=3.1.4 in /usr/local/lib/python3.6/dist-packages (from google-auth<2,>=1.6.3->tensorboard<2.2.0,>=2.1.0->tensorflow-gpu==2.1.0) (4.0)\n",
            "Requirement already satisfied: oauthlib>=3.0.0 in /usr/local/lib/python3.6/dist-packages (from requests-oauthlib>=0.7.0->google-auth-oauthlib<0.5,>=0.4.1->tensorboard<2.2.0,>=2.1.0->tensorflow-gpu==2.1.0) (3.1.0)\n",
            "Requirement already satisfied: pyasn1<0.5.0,>=0.4.6 in /usr/local/lib/python3.6/dist-packages (from pyasn1-modules>=0.2.1->google-auth<2,>=1.6.3->tensorboard<2.2.0,>=2.1.0->tensorflow-gpu==2.1.0) (0.4.8)\n",
            "\u001b[31mERROR: tensorflow 1.15.0 has requirement tensorboard<1.16.0,>=1.15.0, but you'll have tensorboard 2.1.0 which is incompatible.\u001b[0m\n",
            "\u001b[31mERROR: tensorflow 1.15.0 has requirement tensorflow-estimator==1.15.1, but you'll have tensorflow-estimator 2.1.0 which is incompatible.\u001b[0m\n",
            "Installing collected packages: tensorboard, tensorflow-estimator, tensorflow-gpu\n",
            "  Found existing installation: tensorboard 1.15.0\n",
            "    Uninstalling tensorboard-1.15.0:\n",
            "      Successfully uninstalled tensorboard-1.15.0\n",
            "  Found existing installation: tensorflow-estimator 1.15.1\n",
            "    Uninstalling tensorflow-estimator-1.15.1:\n",
            "      Successfully uninstalled tensorflow-estimator-1.15.1\n",
            "Successfully installed tensorboard-2.1.0 tensorflow-estimator-2.1.0 tensorflow-gpu-2.1.0\n"
          ],
          "name": "stdout"
        }
      ]
    },
    {
      "cell_type": "code",
      "metadata": {
        "id": "nEjK079neTdV",
        "colab_type": "code",
        "colab": {}
      },
      "source": [
        "import tensorflow as tf"
      ],
      "execution_count": 0,
      "outputs": []
    },
    {
      "cell_type": "code",
      "metadata": {
        "id": "sprvNu1reyje",
        "colab_type": "code",
        "outputId": "4d453440-8782-4349-bf3d-487e26fb8790",
        "colab": {
          "base_uri": "https://localhost:8080/",
          "height": 34
        }
      },
      "source": [
        "tf.__version__"
      ],
      "execution_count": 4,
      "outputs": [
        {
          "output_type": "execute_result",
          "data": {
            "text/plain": [
              "'2.1.0'"
            ]
          },
          "metadata": {
            "tags": []
          },
          "execution_count": 4
        }
      ]
    },
    {
      "cell_type": "code",
      "metadata": {
        "id": "zjPLq7EV_kX_",
        "colab_type": "code",
        "colab": {}
      },
      "source": [
        "import pandas as pd"
      ],
      "execution_count": 0,
      "outputs": []
    },
    {
      "cell_type": "code",
      "metadata": {
        "id": "Sljlr1VeAKRU",
        "colab_type": "code",
        "colab": {}
      },
      "source": [
        "earnings  = get_news(\"(title:earnings OR description:earnings) OR (title:quarter)\", 'publishedAt:[2019-03-01 TO 2019-09-30]')"
      ],
      "execution_count": 0,
      "outputs": []
    },
    {
      "cell_type": "code",
      "metadata": {
        "id": "cOtsZsVeAWsk",
        "colab_type": "code",
        "colab": {}
      },
      "source": [
        "earnings_df = pd.DataFrame(earnings['articles'])"
      ],
      "execution_count": 0,
      "outputs": []
    },
    {
      "cell_type": "code",
      "metadata": {
        "id": "sSwQ4ccdG2mI",
        "colab_type": "code",
        "outputId": "82478fd5-348b-4b43-d726-1a12aa32aa81",
        "colab": {
          "base_uri": "https://localhost:8080/",
          "height": 1000
        }
      },
      "source": [
        "earnings_df"
      ],
      "execution_count": 8,
      "outputs": [
        {
          "output_type": "execute_result",
          "data": {
            "text/html": [
              "<div>\n",
              "<style scoped>\n",
              "    .dataframe tbody tr th:only-of-type {\n",
              "        vertical-align: middle;\n",
              "    }\n",
              "\n",
              "    .dataframe tbody tr th {\n",
              "        vertical-align: top;\n",
              "    }\n",
              "\n",
              "    .dataframe thead th {\n",
              "        text-align: right;\n",
              "    }\n",
              "</style>\n",
              "<table border=\"1\" class=\"dataframe\">\n",
              "  <thead>\n",
              "    <tr style=\"text-align: right;\">\n",
              "      <th></th>\n",
              "      <th>source</th>\n",
              "      <th>categories</th>\n",
              "      <th>symbols</th>\n",
              "      <th>markets</th>\n",
              "      <th>title</th>\n",
              "      <th>content</th>\n",
              "      <th>description</th>\n",
              "      <th>url</th>\n",
              "      <th>publishedAt</th>\n",
              "      <th>id</th>\n",
              "      <th>urlToImage</th>\n",
              "      <th>author</th>\n",
              "      <th>important</th>\n",
              "      <th>country</th>\n",
              "      <th>time</th>\n",
              "      <th>watchCount</th>\n",
              "      <th>publishedAtNorm</th>\n",
              "      <th>watchCountNorm</th>\n",
              "      <th>ranking</th>\n",
              "      <th>tweetedAt</th>\n",
              "      <th>chartUrl</th>\n",
              "    </tr>\n",
              "  </thead>\n",
              "  <tbody>\n",
              "    <tr>\n",
              "      <th>0</th>\n",
              "      <td>{'id': 'reuters', 'name': 'Reuters'}</td>\n",
              "      <td>[]</td>\n",
              "      <td>[JPM]</td>\n",
              "      <td>[]</td>\n",
              "      <td>Third quarter could mark turning point in U.S....</td>\n",
              "      <td></td>\n",
              "      <td>As investors prepare for U.S. corporations to ...</td>\n",
              "      <td>https://newsfilter.io/articles/third-quarter-c...</td>\n",
              "      <td>2019-09-30T21:39:22+00:00</td>\n",
              "      <td>6c922d33c3b131be8fed0c3dc475fa50</td>\n",
              "      <td>NaN</td>\n",
              "      <td>NaN</td>\n",
              "      <td>NaN</td>\n",
              "      <td>NaN</td>\n",
              "      <td>NaN</td>\n",
              "      <td>NaN</td>\n",
              "      <td>NaN</td>\n",
              "      <td>NaN</td>\n",
              "      <td>NaN</td>\n",
              "      <td>NaN</td>\n",
              "      <td>NaN</td>\n",
              "    </tr>\n",
              "    <tr>\n",
              "      <th>1</th>\n",
              "      <td>{'id': 'seekingAlpha', 'name': 'Seeking Alpha'}</td>\n",
              "      <td>[]</td>\n",
              "      <td>[SFIX]</td>\n",
              "      <td>[]</td>\n",
              "      <td>Stitch Fix Q4 Earnings Preview</td>\n",
              "      <td></td>\n",
              "      <td>Stitch Fix (NASDAQ:SFIX) is scheduled to annou...</td>\n",
              "      <td>https://newsfilter.io/articles/stitch-fix-q4-e...</td>\n",
              "      <td>2019-09-30T17:35:00-04:00</td>\n",
              "      <td>9a0504e56c19b942363bed618cff67a6</td>\n",
              "      <td>NaN</td>\n",
              "      <td>NaN</td>\n",
              "      <td>NaN</td>\n",
              "      <td>NaN</td>\n",
              "      <td>NaN</td>\n",
              "      <td>NaN</td>\n",
              "      <td>NaN</td>\n",
              "      <td>NaN</td>\n",
              "      <td>NaN</td>\n",
              "      <td>NaN</td>\n",
              "      <td>NaN</td>\n",
              "    </tr>\n",
              "    <tr>\n",
              "      <th>2</th>\n",
              "      <td>{'id': 'seekingAlpha', 'name': 'Seeking Alpha'}</td>\n",
              "      <td>[]</td>\n",
              "      <td>[UNFI]</td>\n",
              "      <td>[]</td>\n",
              "      <td>United Natural Foods Q4 2019 Earnings Preview</td>\n",
              "      <td></td>\n",
              "      <td>United Natural Foods (NYSE:UNFI) is scheduled ...</td>\n",
              "      <td>https://newsfilter.io/articles/united-natural-...</td>\n",
              "      <td>2019-09-30T17:35:00-04:00</td>\n",
              "      <td>cea449773473c9122d9ad2ffa200f2d0</td>\n",
              "      <td>NaN</td>\n",
              "      <td>NaN</td>\n",
              "      <td>NaN</td>\n",
              "      <td>NaN</td>\n",
              "      <td>NaN</td>\n",
              "      <td>NaN</td>\n",
              "      <td>NaN</td>\n",
              "      <td>NaN</td>\n",
              "      <td>NaN</td>\n",
              "      <td>NaN</td>\n",
              "      <td>NaN</td>\n",
              "    </tr>\n",
              "    <tr>\n",
              "      <th>3</th>\n",
              "      <td>{'id': 'businesswire', 'name': 'BusinessWire'}</td>\n",
              "      <td>[]</td>\n",
              "      <td>[PCH, PCH]</td>\n",
              "      <td>[]</td>\n",
              "      <td>PotlatchDeltic Scheduled to Release Third Quar...</td>\n",
              "      <td></td>\n",
              "      <td>SPOKANE, Wash.--(BUSINESS WIRE)--PotlatchDelti...</td>\n",
              "      <td>https://newsfilter.io/articles/potlatchdeltic-...</td>\n",
              "      <td>2019-09-30T21:33:00+00:00</td>\n",
              "      <td>36081a072dd7ed72081afb0810f8ffd6</td>\n",
              "      <td>NaN</td>\n",
              "      <td>NaN</td>\n",
              "      <td>NaN</td>\n",
              "      <td>NaN</td>\n",
              "      <td>NaN</td>\n",
              "      <td>NaN</td>\n",
              "      <td>NaN</td>\n",
              "      <td>NaN</td>\n",
              "      <td>NaN</td>\n",
              "      <td>NaN</td>\n",
              "      <td>NaN</td>\n",
              "    </tr>\n",
              "    <tr>\n",
              "      <th>4</th>\n",
              "      <td>{'id': 'prNewswire', 'name': 'PR Newswire'}</td>\n",
              "      <td>[]</td>\n",
              "      <td>[LEA]</td>\n",
              "      <td>[]</td>\n",
              "      <td>Lear Announces Date for Third Quarter 2019 Ear...</td>\n",
              "      <td></td>\n",
              "      <td>Lear Corporation (NYSE: LEA) will hold a confe...</td>\n",
              "      <td>https://newsfilter.io/articles/lear-announces-...</td>\n",
              "      <td>2019-09-30T17:30:00-04:00</td>\n",
              "      <td>672eeedda7a0ecba176000de2841f2c4</td>\n",
              "      <td>NaN</td>\n",
              "      <td>NaN</td>\n",
              "      <td>NaN</td>\n",
              "      <td>NaN</td>\n",
              "      <td>NaN</td>\n",
              "      <td>NaN</td>\n",
              "      <td>NaN</td>\n",
              "      <td>NaN</td>\n",
              "      <td>NaN</td>\n",
              "      <td>NaN</td>\n",
              "      <td>NaN</td>\n",
              "    </tr>\n",
              "    <tr>\n",
              "      <th>...</th>\n",
              "      <td>...</td>\n",
              "      <td>...</td>\n",
              "      <td>...</td>\n",
              "      <td>...</td>\n",
              "      <td>...</td>\n",
              "      <td>...</td>\n",
              "      <td>...</td>\n",
              "      <td>...</td>\n",
              "      <td>...</td>\n",
              "      <td>...</td>\n",
              "      <td>...</td>\n",
              "      <td>...</td>\n",
              "      <td>...</td>\n",
              "      <td>...</td>\n",
              "      <td>...</td>\n",
              "      <td>...</td>\n",
              "      <td>...</td>\n",
              "      <td>...</td>\n",
              "      <td>...</td>\n",
              "      <td>...</td>\n",
              "      <td>...</td>\n",
              "    </tr>\n",
              "    <tr>\n",
              "      <th>9901</th>\n",
              "      <td>{'id': 'marketwatch', 'name': 'MarketWatch'}</td>\n",
              "      <td>[]</td>\n",
              "      <td>[]</td>\n",
              "      <td>[]</td>\n",
              "      <td>Colgate-Palmolive tops estimates in latest qua...</td>\n",
              "      <td></td>\n",
              "      <td>Colgate-Palmolive Co.  said Friday it had net ...</td>\n",
              "      <td>https://newsfilter.io/articles/colgate-palmoli...</td>\n",
              "      <td>2019-04-26T07:05:01-04:00</td>\n",
              "      <td>369f9b60dd2c0ee884dd6f301fb24aab</td>\n",
              "      <td>NaN</td>\n",
              "      <td>NaN</td>\n",
              "      <td>NaN</td>\n",
              "      <td>NaN</td>\n",
              "      <td>NaN</td>\n",
              "      <td>NaN</td>\n",
              "      <td>NaN</td>\n",
              "      <td>NaN</td>\n",
              "      <td>NaN</td>\n",
              "      <td>NaN</td>\n",
              "      <td>NaN</td>\n",
              "    </tr>\n",
              "    <tr>\n",
              "      <th>9902</th>\n",
              "      <td>{'id': 'prNewswire', 'name': 'PR Newswire'}</td>\n",
              "      <td>[]</td>\n",
              "      <td>[]</td>\n",
              "      <td>[]</td>\n",
              "      <td>Universal Technical Institute Schedules Fiscal...</td>\n",
              "      <td></td>\n",
              "      <td>Universal Technical Institute, Inc. (NYSE: UTI...</td>\n",
              "      <td>https://newsfilter.io/articles/universal-techn...</td>\n",
              "      <td>2019-04-26T07:05:00-04:00</td>\n",
              "      <td>7b6e7838d3e58143ec9846c865e479ef</td>\n",
              "      <td>NaN</td>\n",
              "      <td>NaN</td>\n",
              "      <td>NaN</td>\n",
              "      <td>NaN</td>\n",
              "      <td>NaN</td>\n",
              "      <td>NaN</td>\n",
              "      <td>NaN</td>\n",
              "      <td>NaN</td>\n",
              "      <td>NaN</td>\n",
              "      <td>NaN</td>\n",
              "      <td>NaN</td>\n",
              "    </tr>\n",
              "    <tr>\n",
              "      <th>9903</th>\n",
              "      <td>{'id': 'marketwatch', 'name': 'MarketWatch'}</td>\n",
              "      <td>[]</td>\n",
              "      <td>[]</td>\n",
              "      <td>[]</td>\n",
              "      <td>Amazon profit doubles to a record high, Prime ...</td>\n",
              "      <td></td>\n",
              "      <td>Amazon.com Inc. doubled its profit in the firs...</td>\n",
              "      <td>https://newsfilter.io/articles/amazon-profit-d...</td>\n",
              "      <td>2019-04-26T06:53:40-04:00</td>\n",
              "      <td>873cdf1de563e6312f9fe9fd644708e2</td>\n",
              "      <td>NaN</td>\n",
              "      <td>NaN</td>\n",
              "      <td>NaN</td>\n",
              "      <td>NaN</td>\n",
              "      <td>NaN</td>\n",
              "      <td>NaN</td>\n",
              "      <td>NaN</td>\n",
              "      <td>NaN</td>\n",
              "      <td>NaN</td>\n",
              "      <td>NaN</td>\n",
              "      <td>NaN</td>\n",
              "    </tr>\n",
              "    <tr>\n",
              "      <th>9904</th>\n",
              "      <td>{'id': 'reuters', 'name': 'Reuters'}</td>\n",
              "      <td>[]</td>\n",
              "      <td>[]</td>\n",
              "      <td>[]</td>\n",
              "      <td>AutoNation quarterly profit beats Wall Street ...</td>\n",
              "      <td>(Reuters) - AutoNation Inc, the largest U.S. a...</td>\n",
              "      <td>AutoNation Inc, the largest U.S. auto dealersh...</td>\n",
              "      <td>https://newsfilter.io/articles/autonation-quar...</td>\n",
              "      <td>2019-04-26T10:37:49Z</td>\n",
              "      <td>9cd76f98a83c2da7dc353051ab3f7b42</td>\n",
              "      <td>https://s4.reutersmedia.net/resources_v2/image...</td>\n",
              "      <td>Reuters Editorial</td>\n",
              "      <td>False</td>\n",
              "      <td></td>\n",
              "      <td>NaN</td>\n",
              "      <td>NaN</td>\n",
              "      <td>NaN</td>\n",
              "      <td>NaN</td>\n",
              "      <td>NaN</td>\n",
              "      <td>NaN</td>\n",
              "      <td>NaN</td>\n",
              "    </tr>\n",
              "    <tr>\n",
              "      <th>9905</th>\n",
              "      <td>{'id': 'prNewswire', 'name': 'PR Newswire'}</td>\n",
              "      <td>[]</td>\n",
              "      <td>[]</td>\n",
              "      <td>[]</td>\n",
              "      <td>LyondellBasell Reports First Quarter 2019 Earn...</td>\n",
              "      <td></td>\n",
              "      <td>First Quarter 2019 Highlights Net Income: $0.8...</td>\n",
              "      <td>https://newsfilter.io/articles/lyondellbasell-...</td>\n",
              "      <td>2019-04-26T06:30:00-04:00</td>\n",
              "      <td>2e20d74ea10387bc631838f6198b658a</td>\n",
              "      <td>NaN</td>\n",
              "      <td>NaN</td>\n",
              "      <td>NaN</td>\n",
              "      <td>NaN</td>\n",
              "      <td>NaN</td>\n",
              "      <td>NaN</td>\n",
              "      <td>NaN</td>\n",
              "      <td>NaN</td>\n",
              "      <td>NaN</td>\n",
              "      <td>NaN</td>\n",
              "      <td>NaN</td>\n",
              "    </tr>\n",
              "  </tbody>\n",
              "</table>\n",
              "<p>9906 rows × 21 columns</p>\n",
              "</div>"
            ],
            "text/plain": [
              "                                               source  ... chartUrl\n",
              "0                {'id': 'reuters', 'name': 'Reuters'}  ...      NaN\n",
              "1     {'id': 'seekingAlpha', 'name': 'Seeking Alpha'}  ...      NaN\n",
              "2     {'id': 'seekingAlpha', 'name': 'Seeking Alpha'}  ...      NaN\n",
              "3      {'id': 'businesswire', 'name': 'BusinessWire'}  ...      NaN\n",
              "4         {'id': 'prNewswire', 'name': 'PR Newswire'}  ...      NaN\n",
              "...                                               ...  ...      ...\n",
              "9901     {'id': 'marketwatch', 'name': 'MarketWatch'}  ...      NaN\n",
              "9902      {'id': 'prNewswire', 'name': 'PR Newswire'}  ...      NaN\n",
              "9903     {'id': 'marketwatch', 'name': 'MarketWatch'}  ...      NaN\n",
              "9904             {'id': 'reuters', 'name': 'Reuters'}  ...      NaN\n",
              "9905      {'id': 'prNewswire', 'name': 'PR Newswire'}  ...      NaN\n",
              "\n",
              "[9906 rows x 21 columns]"
            ]
          },
          "metadata": {
            "tags": []
          },
          "execution_count": 8
        }
      ]
    },
    {
      "cell_type": "code",
      "metadata": {
        "id": "Qg90i1MJClbk",
        "colab_type": "code",
        "colab": {}
      },
      "source": [
        "all_news  = get_news(\"publishedAt:[2019-03-01 TO 2019-09-29]\")"
      ],
      "execution_count": 0,
      "outputs": []
    },
    {
      "cell_type": "code",
      "metadata": {
        "id": "O1kRSaliCwpr",
        "colab_type": "code",
        "colab": {}
      },
      "source": [
        "all_news_df = pd.DataFrame(all_news['articles'])"
      ],
      "execution_count": 0,
      "outputs": []
    },
    {
      "cell_type": "code",
      "metadata": {
        "id": "dhGBkIBMHliJ",
        "colab_type": "code",
        "outputId": "1f14c5eb-29c1-444a-ec17-0db3a668a70e",
        "colab": {
          "base_uri": "https://localhost:8080/",
          "height": 221
        }
      },
      "source": [
        "all_news_df['publishedAt']"
      ],
      "execution_count": 11,
      "outputs": [
        {
          "output_type": "execute_result",
          "data": {
            "text/plain": [
              "0            2019-09-29T23:51:00Z\n",
              "1       2019-09-29T19:45:00-04:00\n",
              "2            2019-09-29T23:44:00Z\n",
              "3       2019-09-29T23:38:59+00:00\n",
              "4       2019-09-29T19:36:00-04:00\n",
              "                  ...            \n",
              "9790    2019-09-25T15:56:51-04:00\n",
              "9791    2019-09-25T15:56:37-04:00\n",
              "9792    2019-09-25T15:56:35-04:00\n",
              "9793    2019-09-25T15:56:13-04:00\n",
              "9794    2019-09-25T15:55:54-04:00\n",
              "Name: publishedAt, Length: 9795, dtype: object"
            ]
          },
          "metadata": {
            "tags": []
          },
          "execution_count": 11
        }
      ]
    },
    {
      "cell_type": "code",
      "metadata": {
        "id": "KIC4QJ5lPv6Z",
        "colab_type": "code",
        "outputId": "434500fd-85b6-4857-88a8-eb712f0b962a",
        "colab": {
          "base_uri": "https://localhost:8080/",
          "height": 221
        }
      },
      "source": [
        "earnings_df['publishedAt']"
      ],
      "execution_count": 12,
      "outputs": [
        {
          "output_type": "execute_result",
          "data": {
            "text/plain": [
              "0       2019-09-30T21:39:22+00:00\n",
              "1       2019-09-30T17:35:00-04:00\n",
              "2       2019-09-30T17:35:00-04:00\n",
              "3       2019-09-30T21:33:00+00:00\n",
              "4       2019-09-30T17:30:00-04:00\n",
              "                  ...            \n",
              "9901    2019-04-26T07:05:01-04:00\n",
              "9902    2019-04-26T07:05:00-04:00\n",
              "9903    2019-04-26T06:53:40-04:00\n",
              "9904         2019-04-26T10:37:49Z\n",
              "9905    2019-04-26T06:30:00-04:00\n",
              "Name: publishedAt, Length: 9906, dtype: object"
            ]
          },
          "metadata": {
            "tags": []
          },
          "execution_count": 12
        }
      ]
    },
    {
      "cell_type": "code",
      "metadata": {
        "id": "UCbD-cFEDwRn",
        "colab_type": "code",
        "outputId": "d1c4a33e-61b6-40f0-e9df-b843c765f188",
        "colab": {
          "base_uri": "https://localhost:8080/",
          "height": 34
        }
      },
      "source": [
        "all_news_df.shape, earnings_df.shape"
      ],
      "execution_count": 13,
      "outputs": [
        {
          "output_type": "execute_result",
          "data": {
            "text/plain": [
              "((9795, 15), (9906, 21))"
            ]
          },
          "metadata": {
            "tags": []
          },
          "execution_count": 13
        }
      ]
    },
    {
      "cell_type": "code",
      "metadata": {
        "id": "ZZHJMfNXC3tX",
        "colab_type": "code",
        "colab": {}
      },
      "source": [
        "other_news = all_news_df[~all_news_df['id'].isin(earnings_df['id'])]\n"
      ],
      "execution_count": 0,
      "outputs": []
    },
    {
      "cell_type": "code",
      "metadata": {
        "id": "iv2vlsSXVUD_",
        "colab_type": "code",
        "colab": {}
      },
      "source": [
        "earnings_df = earnings_df[earnings_df['source'] != {'id': 'sec-api', 'name': 'SEC'}]"
      ],
      "execution_count": 0,
      "outputs": []
    },
    {
      "cell_type": "code",
      "metadata": {
        "id": "YLKaA4yjVHN0",
        "colab_type": "code",
        "colab": {}
      },
      "source": [
        "other_news =other_news[other_news['source'] != {'id': 'sec-api', 'name': 'SEC'}]"
      ],
      "execution_count": 0,
      "outputs": []
    },
    {
      "cell_type": "code",
      "metadata": {
        "id": "cS7MAT94DdES",
        "colab_type": "code",
        "colab": {}
      },
      "source": [
        "earnings_df = earnings_df.sample(5200)"
      ],
      "execution_count": 0,
      "outputs": []
    },
    {
      "cell_type": "code",
      "metadata": {
        "id": "cj00PHb6Dixv",
        "colab_type": "code",
        "outputId": "d96ac19b-2ae2-472f-b889-08f6a6a979fe",
        "colab": {
          "base_uri": "https://localhost:8080/",
          "height": 34
        }
      },
      "source": [
        "other_news.shape , earnings_df.shape"
      ],
      "execution_count": 18,
      "outputs": [
        {
          "output_type": "execute_result",
          "data": {
            "text/plain": [
              "((5200, 15), (5200, 21))"
            ]
          },
          "metadata": {
            "tags": []
          },
          "execution_count": 18
        }
      ]
    },
    {
      "cell_type": "code",
      "metadata": {
        "id": "fLMKF7LcV0mh",
        "colab_type": "code",
        "outputId": "6ac23442-c563-41cd-b73e-69126c805d7a",
        "colab": {
          "base_uri": "https://localhost:8080/",
          "height": 85
        }
      },
      "source": [
        "other_news.columns"
      ],
      "execution_count": 19,
      "outputs": [
        {
          "output_type": "execute_result",
          "data": {
            "text/plain": [
              "Index(['source', 'categories', 'symbols', 'markets', 'title', 'content',\n",
              "       'description', 'url', 'urlToImage', 'author', 'important',\n",
              "       'publishedAt', 'country', 'id', 'details'],\n",
              "      dtype='object')"
            ]
          },
          "metadata": {
            "tags": []
          },
          "execution_count": 19
        }
      ]
    },
    {
      "cell_type": "code",
      "metadata": {
        "id": "qQ1zAEqJV20g",
        "colab_type": "code",
        "outputId": "adcaea3b-d8c7-4013-d3da-5b8dc9392987",
        "colab": {
          "base_uri": "https://localhost:8080/",
          "height": 102
        }
      },
      "source": [
        "earnings_df.columns"
      ],
      "execution_count": 20,
      "outputs": [
        {
          "output_type": "execute_result",
          "data": {
            "text/plain": [
              "Index(['source', 'categories', 'symbols', 'markets', 'title', 'content',\n",
              "       'description', 'url', 'publishedAt', 'id', 'urlToImage', 'author',\n",
              "       'important', 'country', 'time', 'watchCount', 'publishedAtNorm',\n",
              "       'watchCountNorm', 'ranking', 'tweetedAt', 'chartUrl'],\n",
              "      dtype='object')"
            ]
          },
          "metadata": {
            "tags": []
          },
          "execution_count": 20
        }
      ]
    },
    {
      "cell_type": "code",
      "metadata": {
        "id": "FR3NkpD1WSpl",
        "colab_type": "code",
        "colab": {}
      },
      "source": [
        "earnings_df['output'] = 1"
      ],
      "execution_count": 0,
      "outputs": []
    },
    {
      "cell_type": "code",
      "metadata": {
        "id": "f3r0AFJQWSsw",
        "colab_type": "code",
        "colab": {}
      },
      "source": [
        "other_news['output'] = 0"
      ],
      "execution_count": 0,
      "outputs": []
    },
    {
      "cell_type": "code",
      "metadata": {
        "id": "iTrIicVQWd35",
        "colab_type": "code",
        "colab": {}
      },
      "source": [
        "data = earnings_df[['title', 'description','output']].append(other_news[['title', 'description','output']]).reset_index(drop = True)"
      ],
      "execution_count": 0,
      "outputs": []
    },
    {
      "cell_type": "code",
      "metadata": {
        "id": "zztSHv_3Wd68",
        "colab_type": "code",
        "colab": {}
      },
      "source": [
        "data = data.sample(frac=1).reset_index(drop=True)"
      ],
      "execution_count": 0,
      "outputs": []
    },
    {
      "cell_type": "code",
      "metadata": {
        "id": "NiHZW6PWFCs4",
        "colab_type": "code",
        "outputId": "b2749cbb-e144-415f-b129-728cd55ec774",
        "colab": {
          "base_uri": "https://localhost:8080/",
          "height": 221
        }
      },
      "source": [
        "data['title'] + '. ' + data['description'][0]"
      ],
      "execution_count": 25,
      "outputs": [
        {
          "output_type": "execute_result",
          "data": {
            "text/plain": [
              "0        Pinterest stock gains sharply ahead of post-IP...\n",
              "1        Uber Stock Is Slumping After Earnings Because ...\n",
              "2        Tiffany Is Rising Because Dividend Hikes Have ...\n",
              "3        Chewy Q2 2020 Earnings Preview. Shares of Pint...\n",
              "4        Bank Of America Likes Funko After 2019 Guidanc...\n",
              "                               ...                        \n",
              "10395    SoFi Says Millennials Can Invest In Their Reti...\n",
              "10396    7 Stocks To Watch For August 13, 2019. Shares ...\n",
              "10397    Enbridge Re-affirms Plan to Proceed with Contr...\n",
              "10398    Earnings Scheduled For September 11, 2019. Sha...\n",
              "10399    Triple-S Management Corporation Schedules Seco...\n",
              "Name: title, Length: 10400, dtype: object"
            ]
          },
          "metadata": {
            "tags": []
          },
          "execution_count": 25
        }
      ]
    },
    {
      "cell_type": "code",
      "metadata": {
        "id": "WzuZsJYKFJHt",
        "colab_type": "code",
        "colab": {}
      },
      "source": [
        "text = data['title'][0] + '. ' + data['description'][0]"
      ],
      "execution_count": 0,
      "outputs": []
    },
    {
      "cell_type": "code",
      "metadata": {
        "id": "knNnQ4-AFaSn",
        "colab_type": "code",
        "outputId": "a674cd45-628a-4c17-c898-0234378f4b66",
        "colab": {
          "base_uri": "https://localhost:8080/",
          "height": 34
        }
      },
      "source": [
        "len(text.split())"
      ],
      "execution_count": 27,
      "outputs": [
        {
          "output_type": "execute_result",
          "data": {
            "text/plain": [
              "49"
            ]
          },
          "metadata": {
            "tags": []
          },
          "execution_count": 27
        }
      ]
    },
    {
      "cell_type": "code",
      "metadata": {
        "id": "5_HEbK0dQjq4",
        "colab_type": "code",
        "colab": {}
      },
      "source": [
        "import numpy as np"
      ],
      "execution_count": 0,
      "outputs": []
    },
    {
      "cell_type": "code",
      "metadata": {
        "id": "UeUCitpQQl3s",
        "colab_type": "code",
        "outputId": "374a2220-3627-4b9b-8b23-e36fb95e4eaa",
        "colab": {
          "base_uri": "https://localhost:8080/",
          "height": 34
        }
      },
      "source": [
        "# Get the GPU device name.\n",
        "device_name = tf.test.gpu_device_name()\n",
        "\n",
        "# The device name should look like the following:\n",
        "if device_name == '/device:GPU:0':\n",
        "    print('Found GPU at: {}'.format(device_name))\n",
        "else:\n",
        "    raise SystemError('GPU device not found')"
      ],
      "execution_count": 29,
      "outputs": [
        {
          "output_type": "stream",
          "text": [
            "Found GPU at: /device:GPU:0\n"
          ],
          "name": "stdout"
        }
      ]
    },
    {
      "cell_type": "code",
      "metadata": {
        "id": "EbRKHURAQnTV",
        "colab_type": "code",
        "outputId": "b4d90cfa-5635-4368-d3b9-05219034e5ab",
        "colab": {
          "base_uri": "https://localhost:8080/",
          "height": 51
        }
      },
      "source": [
        "import torch\n",
        "\n",
        "# If there's a GPU available...\n",
        "if torch.cuda.is_available():    \n",
        "\n",
        "    # Tell PyTorch to use the GPU.    \n",
        "    device = torch.device(\"cuda\")\n",
        "\n",
        "    print('There are %d GPU(s) available.' % torch.cuda.device_count())\n",
        "\n",
        "    print('We will use the GPU:', torch.cuda.get_device_name(0))\n",
        "\n",
        "# If not...\n",
        "else:\n",
        "    print('No GPU available, using the CPU instead.')\n",
        "    device = torch.device(\"cpu\")"
      ],
      "execution_count": 30,
      "outputs": [
        {
          "output_type": "stream",
          "text": [
            "There are 1 GPU(s) available.\n",
            "We will use the GPU: Tesla P4\n"
          ],
          "name": "stdout"
        }
      ]
    },
    {
      "cell_type": "code",
      "metadata": {
        "id": "UjZ68tQ2Qo2D",
        "colab_type": "code",
        "outputId": "0f2ef6ac-153b-4f13-a201-349da7da9f53",
        "colab": {
          "base_uri": "https://localhost:8080/",
          "height": 666
        }
      },
      "source": [
        "!pip install transformers"
      ],
      "execution_count": 31,
      "outputs": [
        {
          "output_type": "stream",
          "text": [
            "Collecting transformers\n",
            "\u001b[?25l  Downloading https://files.pythonhosted.org/packages/13/33/ffb67897a6985a7b7d8e5e7878c3628678f553634bd3836404fef06ef19b/transformers-2.5.1-py3-none-any.whl (499kB)\n",
            "\r\u001b[K     |▋                               | 10kB 23.9MB/s eta 0:00:01\r\u001b[K     |█▎                              | 20kB 31.2MB/s eta 0:00:01\r\u001b[K     |██                              | 30kB 26.0MB/s eta 0:00:01\r\u001b[K     |██▋                             | 40kB 22.8MB/s eta 0:00:01\r\u001b[K     |███▎                            | 51kB 19.6MB/s eta 0:00:01\r\u001b[K     |████                            | 61kB 22.2MB/s eta 0:00:01\r\u001b[K     |████▋                           | 71kB 18.6MB/s eta 0:00:01\r\u001b[K     |█████▎                          | 81kB 18.9MB/s eta 0:00:01\r\u001b[K     |██████                          | 92kB 20.4MB/s eta 0:00:01\r\u001b[K     |██████▋                         | 102kB 19.7MB/s eta 0:00:01\r\u001b[K     |███████▏                        | 112kB 19.7MB/s eta 0:00:01\r\u001b[K     |███████▉                        | 122kB 19.7MB/s eta 0:00:01\r\u001b[K     |████████▌                       | 133kB 19.7MB/s eta 0:00:01\r\u001b[K     |█████████▏                      | 143kB 19.7MB/s eta 0:00:01\r\u001b[K     |█████████▉                      | 153kB 19.7MB/s eta 0:00:01\r\u001b[K     |██████████▌                     | 163kB 19.7MB/s eta 0:00:01\r\u001b[K     |███████████▏                    | 174kB 19.7MB/s eta 0:00:01\r\u001b[K     |███████████▉                    | 184kB 19.7MB/s eta 0:00:01\r\u001b[K     |████████████▌                   | 194kB 19.7MB/s eta 0:00:01\r\u001b[K     |█████████████▏                  | 204kB 19.7MB/s eta 0:00:01\r\u001b[K     |█████████████▉                  | 215kB 19.7MB/s eta 0:00:01\r\u001b[K     |██████████████▍                 | 225kB 19.7MB/s eta 0:00:01\r\u001b[K     |███████████████                 | 235kB 19.7MB/s eta 0:00:01\r\u001b[K     |███████████████▊                | 245kB 19.7MB/s eta 0:00:01\r\u001b[K     |████████████████▍               | 256kB 19.7MB/s eta 0:00:01\r\u001b[K     |█████████████████               | 266kB 19.7MB/s eta 0:00:01\r\u001b[K     |█████████████████▊              | 276kB 19.7MB/s eta 0:00:01\r\u001b[K     |██████████████████▍             | 286kB 19.7MB/s eta 0:00:01\r\u001b[K     |███████████████████             | 296kB 19.7MB/s eta 0:00:01\r\u001b[K     |███████████████████▊            | 307kB 19.7MB/s eta 0:00:01\r\u001b[K     |████████████████████▍           | 317kB 19.7MB/s eta 0:00:01\r\u001b[K     |█████████████████████           | 327kB 19.7MB/s eta 0:00:01\r\u001b[K     |█████████████████████▋          | 337kB 19.7MB/s eta 0:00:01\r\u001b[K     |██████████████████████▎         | 348kB 19.7MB/s eta 0:00:01\r\u001b[K     |███████████████████████         | 358kB 19.7MB/s eta 0:00:01\r\u001b[K     |███████████████████████▋        | 368kB 19.7MB/s eta 0:00:01\r\u001b[K     |████████████████████████▎       | 378kB 19.7MB/s eta 0:00:01\r\u001b[K     |█████████████████████████       | 389kB 19.7MB/s eta 0:00:01\r\u001b[K     |█████████████████████████▋      | 399kB 19.7MB/s eta 0:00:01\r\u001b[K     |██████████████████████████▎     | 409kB 19.7MB/s eta 0:00:01\r\u001b[K     |███████████████████████████     | 419kB 19.7MB/s eta 0:00:01\r\u001b[K     |███████████████████████████▋    | 430kB 19.7MB/s eta 0:00:01\r\u001b[K     |████████████████████████████▏   | 440kB 19.7MB/s eta 0:00:01\r\u001b[K     |████████████████████████████▉   | 450kB 19.7MB/s eta 0:00:01\r\u001b[K     |█████████████████████████████▌  | 460kB 19.7MB/s eta 0:00:01\r\u001b[K     |██████████████████████████████▏ | 471kB 19.7MB/s eta 0:00:01\r\u001b[K     |██████████████████████████████▉ | 481kB 19.7MB/s eta 0:00:01\r\u001b[K     |███████████████████████████████▌| 491kB 19.7MB/s eta 0:00:01\r\u001b[K     |████████████████████████████████| 501kB 19.7MB/s \n",
            "\u001b[?25hRequirement already satisfied: filelock in /usr/local/lib/python3.6/dist-packages (from transformers) (3.0.12)\n",
            "Collecting sentencepiece\n",
            "\u001b[?25l  Downloading https://files.pythonhosted.org/packages/74/f4/2d5214cbf13d06e7cb2c20d84115ca25b53ea76fa1f0ade0e3c9749de214/sentencepiece-0.1.85-cp36-cp36m-manylinux1_x86_64.whl (1.0MB)\n",
            "\u001b[K     |████████████████████████████████| 1.0MB 55.1MB/s \n",
            "\u001b[?25hCollecting sacremoses\n",
            "\u001b[?25l  Downloading https://files.pythonhosted.org/packages/a6/b4/7a41d630547a4afd58143597d5a49e07bfd4c42914d8335b2a5657efc14b/sacremoses-0.0.38.tar.gz (860kB)\n",
            "\u001b[K     |████████████████████████████████| 870kB 51.6MB/s \n",
            "\u001b[?25hRequirement already satisfied: requests in /usr/local/lib/python3.6/dist-packages (from transformers) (2.21.0)\n",
            "Requirement already satisfied: numpy in /usr/local/lib/python3.6/dist-packages (from transformers) (1.17.5)\n",
            "Collecting tokenizers==0.5.2\n",
            "\u001b[?25l  Downloading https://files.pythonhosted.org/packages/d1/3f/73c881ea4723e43c1e9acf317cf407fab3a278daab3a69c98dcac511c04f/tokenizers-0.5.2-cp36-cp36m-manylinux1_x86_64.whl (3.7MB)\n",
            "\u001b[K     |████████████████████████████████| 3.7MB 63.6MB/s \n",
            "\u001b[?25hRequirement already satisfied: boto3 in /usr/local/lib/python3.6/dist-packages (from transformers) (1.11.15)\n",
            "Requirement already satisfied: tqdm>=4.27 in /usr/local/lib/python3.6/dist-packages (from transformers) (4.28.1)\n",
            "Requirement already satisfied: regex!=2019.12.17 in /usr/local/lib/python3.6/dist-packages (from transformers) (2019.12.20)\n",
            "Requirement already satisfied: six in /usr/local/lib/python3.6/dist-packages (from sacremoses->transformers) (1.12.0)\n",
            "Requirement already satisfied: click in /usr/local/lib/python3.6/dist-packages (from sacremoses->transformers) (7.0)\n",
            "Requirement already satisfied: joblib in /usr/local/lib/python3.6/dist-packages (from sacremoses->transformers) (0.14.1)\n",
            "Requirement already satisfied: idna<2.9,>=2.5 in /usr/local/lib/python3.6/dist-packages (from requests->transformers) (2.8)\n",
            "Requirement already satisfied: chardet<3.1.0,>=3.0.2 in /usr/local/lib/python3.6/dist-packages (from requests->transformers) (3.0.4)\n",
            "Requirement already satisfied: certifi>=2017.4.17 in /usr/local/lib/python3.6/dist-packages (from requests->transformers) (2019.11.28)\n",
            "Requirement already satisfied: urllib3<1.25,>=1.21.1 in /usr/local/lib/python3.6/dist-packages (from requests->transformers) (1.24.3)\n",
            "Requirement already satisfied: botocore<1.15.0,>=1.14.15 in /usr/local/lib/python3.6/dist-packages (from boto3->transformers) (1.14.15)\n",
            "Requirement already satisfied: jmespath<1.0.0,>=0.7.1 in /usr/local/lib/python3.6/dist-packages (from boto3->transformers) (0.9.4)\n",
            "Requirement already satisfied: s3transfer<0.4.0,>=0.3.0 in /usr/local/lib/python3.6/dist-packages (from boto3->transformers) (0.3.3)\n",
            "Requirement already satisfied: docutils<0.16,>=0.10 in /usr/local/lib/python3.6/dist-packages (from botocore<1.15.0,>=1.14.15->boto3->transformers) (0.15.2)\n",
            "Requirement already satisfied: python-dateutil<3.0.0,>=2.1 in /usr/local/lib/python3.6/dist-packages (from botocore<1.15.0,>=1.14.15->boto3->transformers) (2.6.1)\n",
            "Building wheels for collected packages: sacremoses\n",
            "  Building wheel for sacremoses (setup.py) ... \u001b[?25l\u001b[?25hdone\n",
            "  Created wheel for sacremoses: filename=sacremoses-0.0.38-cp36-none-any.whl size=884628 sha256=99e4fdfb92ccb5d7903f6a774dfb8c0b6534b5f61df10ea6821c4d83b84b3db9\n",
            "  Stored in directory: /root/.cache/pip/wheels/6d/ec/1a/21b8912e35e02741306f35f66c785f3afe94de754a0eaf1422\n",
            "Successfully built sacremoses\n",
            "Installing collected packages: sentencepiece, sacremoses, tokenizers, transformers\n",
            "Successfully installed sacremoses-0.0.38 sentencepiece-0.1.85 tokenizers-0.5.2 transformers-2.5.1\n"
          ],
          "name": "stdout"
        }
      ]
    },
    {
      "cell_type": "code",
      "metadata": {
        "id": "yvBi69PDQrL2",
        "colab_type": "code",
        "colab": {}
      },
      "source": [
        "from transformers import BertTokenizer"
      ],
      "execution_count": 0,
      "outputs": []
    },
    {
      "cell_type": "code",
      "metadata": {
        "id": "XbV0Ya42QtIU",
        "colab_type": "code",
        "colab": {
          "base_uri": "https://localhost:8080/",
          "height": 66,
          "referenced_widgets": [
            "dca4c7658d6a4a7292e9d00d816882c8",
            "8b6a05322c7144f7a7710e442547416a",
            "4de3d1c59bbe40ec89d2ab4ee242d17e",
            "12e508aaa2c841ea9ce9f153d1b16d06",
            "61d09b96edc74fa8af01fde9fce38063",
            "ed58ce906b51408287fa5ec193ea853c",
            "92e2bd90c19b4c8897efb19ac9513640",
            "373612021eb74ff58c3e4441534edd29"
          ]
        },
        "outputId": "e7673cb2-5b74-4bd1-b72a-c3ac1b4abcf1"
      },
      "source": [
        "tokenizer = BertTokenizer.from_pretrained('bert-base-uncased')"
      ],
      "execution_count": 33,
      "outputs": [
        {
          "output_type": "display_data",
          "data": {
            "application/vnd.jupyter.widget-view+json": {
              "model_id": "dca4c7658d6a4a7292e9d00d816882c8",
              "version_minor": 0,
              "version_major": 2
            },
            "text/plain": [
              "HBox(children=(IntProgress(value=0, description='Downloading', max=231508, style=ProgressStyle(description_wid…"
            ]
          },
          "metadata": {
            "tags": []
          }
        },
        {
          "output_type": "stream",
          "text": [
            "\n"
          ],
          "name": "stdout"
        }
      ]
    },
    {
      "cell_type": "code",
      "metadata": {
        "id": "U1qFhCSUQulW",
        "colab_type": "code",
        "colab": {}
      },
      "source": [
        "from tqdm import tqdm "
      ],
      "execution_count": 0,
      "outputs": []
    },
    {
      "cell_type": "code",
      "metadata": {
        "id": "IZmgahUIQ3zB",
        "colab_type": "code",
        "colab": {}
      },
      "source": [
        "# Mask ids: for every token to mask out tokens used only for the sequence padding (so every sequence has the same length).\n",
        "# zero padding\n",
        "def get_masks(tokens, max_seq_length):\n",
        "    \"\"\"Mask for padding\"\"\"\n",
        "    if len(tokens)>max_seq_length:\n",
        "        raise IndexError(\"Token length more than max seq length!\")\n",
        "    return [1]*len(tokens) + [0] * (max_seq_length - len(tokens))\n"
      ],
      "execution_count": 0,
      "outputs": []
    },
    {
      "cell_type": "code",
      "metadata": {
        "id": "dq2h8CUBQ5NJ",
        "colab_type": "code",
        "colab": {}
      },
      "source": [
        "# Segment ids: 0 for one-sentence sequence, 1 if there are two sentences in the sequence and it is the second one\n",
        "\n",
        "def get_segments(tokens, max_seq_length):\n",
        "    \"\"\"Segments: 0 for the first sequence, 1 for the second\"\"\"\n",
        "    if len(tokens)>max_seq_length:\n",
        "        raise IndexError(\"Token length more than max seq length!\")\n",
        "    segments = []\n",
        "    current_segment_id = 0\n",
        "    for token in tokens:\n",
        "        segments.append(current_segment_id)\n",
        "        if token == \"[SEP]\":\n",
        "            current_segment_id = 1\n",
        "    return segments + [0] * (max_seq_length - len(tokens))"
      ],
      "execution_count": 0,
      "outputs": []
    },
    {
      "cell_type": "code",
      "metadata": {
        "id": "sgwof1_qQ6k3",
        "colab_type": "code",
        "colab": {}
      },
      "source": [
        "#Token ids: for every token in the sentence. We restore it from the BERT vocab dictionary\n",
        "\n",
        "def get_ids(tokens, tokenizer, max_seq_length):\n",
        "    \"\"\"Token ids from Tokenizer vocab\"\"\"\n",
        "    token_ids = tokenizer.convert_tokens_to_ids(tokens)\n",
        "    input_ids = token_ids + [0] * (max_seq_length-len(token_ids))\n",
        "    return input_ids\n"
      ],
      "execution_count": 0,
      "outputs": []
    },
    {
      "cell_type": "code",
      "metadata": {
        "id": "8Jv8dk6AQ73I",
        "colab_type": "code",
        "colab": {}
      },
      "source": [
        "max_seq_length = 64"
      ],
      "execution_count": 0,
      "outputs": []
    },
    {
      "cell_type": "code",
      "metadata": {
        "id": "z4ZrJ_4KTTDa",
        "colab_type": "code",
        "outputId": "da27137b-6134-4598-9069-5b7d1cba32ba",
        "colab": {
          "base_uri": "https://localhost:8080/",
          "height": 142
        }
      },
      "source": [
        "data.groupby('output').count()"
      ],
      "execution_count": 39,
      "outputs": [
        {
          "output_type": "execute_result",
          "data": {
            "text/html": [
              "<div>\n",
              "<style scoped>\n",
              "    .dataframe tbody tr th:only-of-type {\n",
              "        vertical-align: middle;\n",
              "    }\n",
              "\n",
              "    .dataframe tbody tr th {\n",
              "        vertical-align: top;\n",
              "    }\n",
              "\n",
              "    .dataframe thead th {\n",
              "        text-align: right;\n",
              "    }\n",
              "</style>\n",
              "<table border=\"1\" class=\"dataframe\">\n",
              "  <thead>\n",
              "    <tr style=\"text-align: right;\">\n",
              "      <th></th>\n",
              "      <th>title</th>\n",
              "      <th>description</th>\n",
              "    </tr>\n",
              "    <tr>\n",
              "      <th>output</th>\n",
              "      <th></th>\n",
              "      <th></th>\n",
              "    </tr>\n",
              "  </thead>\n",
              "  <tbody>\n",
              "    <tr>\n",
              "      <th>0</th>\n",
              "      <td>5200</td>\n",
              "      <td>5200</td>\n",
              "    </tr>\n",
              "    <tr>\n",
              "      <th>1</th>\n",
              "      <td>5200</td>\n",
              "      <td>5157</td>\n",
              "    </tr>\n",
              "  </tbody>\n",
              "</table>\n",
              "</div>"
            ],
            "text/plain": [
              "        title  description\n",
              "output                    \n",
              "0        5200         5200\n",
              "1        5200         5157"
            ]
          },
          "metadata": {
            "tags": []
          },
          "execution_count": 39
        }
      ]
    },
    {
      "cell_type": "code",
      "metadata": {
        "id": "iV7G8rFiSoi4",
        "colab_type": "code",
        "colab": {}
      },
      "source": [
        "data['input'] = data['title'] +'. '+ data['description']"
      ],
      "execution_count": 0,
      "outputs": []
    },
    {
      "cell_type": "code",
      "metadata": {
        "id": "HwpJjjjtTfg4",
        "colab_type": "code",
        "outputId": "059bbbad-a996-4cfb-d885-c1c17c370ef8",
        "colab": {
          "base_uri": "https://localhost:8080/",
          "height": 204
        }
      },
      "source": [
        "data.head()"
      ],
      "execution_count": 41,
      "outputs": [
        {
          "output_type": "execute_result",
          "data": {
            "text/html": [
              "<div>\n",
              "<style scoped>\n",
              "    .dataframe tbody tr th:only-of-type {\n",
              "        vertical-align: middle;\n",
              "    }\n",
              "\n",
              "    .dataframe tbody tr th {\n",
              "        vertical-align: top;\n",
              "    }\n",
              "\n",
              "    .dataframe thead th {\n",
              "        text-align: right;\n",
              "    }\n",
              "</style>\n",
              "<table border=\"1\" class=\"dataframe\">\n",
              "  <thead>\n",
              "    <tr style=\"text-align: right;\">\n",
              "      <th></th>\n",
              "      <th>title</th>\n",
              "      <th>description</th>\n",
              "      <th>output</th>\n",
              "      <th>input</th>\n",
              "    </tr>\n",
              "  </thead>\n",
              "  <tbody>\n",
              "    <tr>\n",
              "      <th>0</th>\n",
              "      <td>Pinterest stock gains sharply ahead of post-IP...</td>\n",
              "      <td>Shares of Pinterest Inc.  rose more than 7% at...</td>\n",
              "      <td>1</td>\n",
              "      <td>Pinterest stock gains sharply ahead of post-IP...</td>\n",
              "    </tr>\n",
              "    <tr>\n",
              "      <th>1</th>\n",
              "      <td>Uber Stock Is Slumping After Earnings Because ...</td>\n",
              "      <td>Uber said it lost $2.01 a share on revenue tha...</td>\n",
              "      <td>1</td>\n",
              "      <td>Uber Stock Is Slumping After Earnings Because ...</td>\n",
              "    </tr>\n",
              "    <tr>\n",
              "      <th>2</th>\n",
              "      <td>Tiffany Is Rising Because Dividend Hikes Have ...</td>\n",
              "      <td>The luxury retailer beat first-quarter earning...</td>\n",
              "      <td>1</td>\n",
              "      <td>Tiffany Is Rising Because Dividend Hikes Have ...</td>\n",
              "    </tr>\n",
              "    <tr>\n",
              "      <th>3</th>\n",
              "      <td>Chewy Q2 2020 Earnings Preview</td>\n",
              "      <td>Chewy (NYSE:CHWY) is scheduled to announce Q2 ...</td>\n",
              "      <td>1</td>\n",
              "      <td>Chewy Q2 2020 Earnings Preview. Chewy (NYSE:CH...</td>\n",
              "    </tr>\n",
              "    <tr>\n",
              "      <th>4</th>\n",
              "      <td>Bank Of America Likes Funko After 2019 Guidanc...</td>\n",
              "      <td>Funko Inc (NASDAQ: FNKO) shares are moving hig...</td>\n",
              "      <td>1</td>\n",
              "      <td>Bank Of America Likes Funko After 2019 Guidanc...</td>\n",
              "    </tr>\n",
              "  </tbody>\n",
              "</table>\n",
              "</div>"
            ],
            "text/plain": [
              "                                               title  ...                                              input\n",
              "0  Pinterest stock gains sharply ahead of post-IP...  ...  Pinterest stock gains sharply ahead of post-IP...\n",
              "1  Uber Stock Is Slumping After Earnings Because ...  ...  Uber Stock Is Slumping After Earnings Because ...\n",
              "2  Tiffany Is Rising Because Dividend Hikes Have ...  ...  Tiffany Is Rising Because Dividend Hikes Have ...\n",
              "3                     Chewy Q2 2020 Earnings Preview  ...  Chewy Q2 2020 Earnings Preview. Chewy (NYSE:CH...\n",
              "4  Bank Of America Likes Funko After 2019 Guidanc...  ...  Bank Of America Likes Funko After 2019 Guidanc...\n",
              "\n",
              "[5 rows x 4 columns]"
            ]
          },
          "metadata": {
            "tags": []
          },
          "execution_count": 41
        }
      ]
    },
    {
      "cell_type": "code",
      "metadata": {
        "id": "lGYx0BRmYWc8",
        "colab_type": "code",
        "colab": {}
      },
      "source": [
        "data = data.dropna()"
      ],
      "execution_count": 0,
      "outputs": []
    },
    {
      "cell_type": "code",
      "metadata": {
        "id": "TrGxbgzoYkiG",
        "colab_type": "code",
        "outputId": "ac621070-5444-463a-c099-d453510827cb",
        "colab": {
          "base_uri": "https://localhost:8080/",
          "height": 142
        }
      },
      "source": [
        "data.groupby('output').count()"
      ],
      "execution_count": 43,
      "outputs": [
        {
          "output_type": "execute_result",
          "data": {
            "text/html": [
              "<div>\n",
              "<style scoped>\n",
              "    .dataframe tbody tr th:only-of-type {\n",
              "        vertical-align: middle;\n",
              "    }\n",
              "\n",
              "    .dataframe tbody tr th {\n",
              "        vertical-align: top;\n",
              "    }\n",
              "\n",
              "    .dataframe thead th {\n",
              "        text-align: right;\n",
              "    }\n",
              "</style>\n",
              "<table border=\"1\" class=\"dataframe\">\n",
              "  <thead>\n",
              "    <tr style=\"text-align: right;\">\n",
              "      <th></th>\n",
              "      <th>title</th>\n",
              "      <th>description</th>\n",
              "      <th>input</th>\n",
              "    </tr>\n",
              "    <tr>\n",
              "      <th>output</th>\n",
              "      <th></th>\n",
              "      <th></th>\n",
              "      <th></th>\n",
              "    </tr>\n",
              "  </thead>\n",
              "  <tbody>\n",
              "    <tr>\n",
              "      <th>0</th>\n",
              "      <td>5200</td>\n",
              "      <td>5200</td>\n",
              "      <td>5200</td>\n",
              "    </tr>\n",
              "    <tr>\n",
              "      <th>1</th>\n",
              "      <td>5157</td>\n",
              "      <td>5157</td>\n",
              "      <td>5157</td>\n",
              "    </tr>\n",
              "  </tbody>\n",
              "</table>\n",
              "</div>"
            ],
            "text/plain": [
              "        title  description  input\n",
              "output                           \n",
              "0        5200         5200   5200\n",
              "1        5157         5157   5157"
            ]
          },
          "metadata": {
            "tags": []
          },
          "execution_count": 43
        }
      ]
    },
    {
      "cell_type": "code",
      "metadata": {
        "id": "GW8sZftkXs0q",
        "colab_type": "code",
        "colab": {}
      },
      "source": [
        "max_seq_length = 64  # Your choice here.\n",
        "input_word_ids = tf.keras.layers.Input(shape=(max_seq_length,), dtype=tf.int32,\n",
        "                                       name=\"input_word_ids\")\n",
        "input_mask = tf.keras.layers.Input(shape=(max_seq_length,), dtype=tf.int32,\n",
        "                                   name=\"input_mask\")\n",
        "segment_ids = tf.keras.layers.Input(shape=(max_seq_length,), dtype=tf.int32,\n",
        "                                    name=\"segment_ids\")"
      ],
      "execution_count": 0,
      "outputs": []
    },
    {
      "cell_type": "code",
      "metadata": {
        "id": "FF64wv2iY0VF",
        "colab_type": "code",
        "colab": {}
      },
      "source": [
        "from transformers import TFBertModel"
      ],
      "execution_count": 0,
      "outputs": []
    },
    {
      "cell_type": "code",
      "metadata": {
        "id": "--oSMo8nY4dh",
        "colab_type": "code",
        "outputId": "b4ba45f6-4c72-4968-b9f9-5ae3b556fd09",
        "colab": {
          "base_uri": "https://localhost:8080/",
          "height": 115,
          "referenced_widgets": [
            "1cfb9cd4303244a98a4f1ef018f32198",
            "f87c20e236ae40f49573a035681ccc37",
            "94111516fc4446ef8b9ffe67930aa9dd",
            "34651a46653a45dda6cf11059c1c748a",
            "3de4ce4f5c324ddfa4fd192779849ef5",
            "0691c08ece074420a16bb862e9367f83",
            "e9971f1856f14926b1fb4f5729d417e3",
            "80f318f251e04412b796ee22c51d00ef",
            "2052e558a1c94bcbb89650909d55ef84",
            "f2d08445420548dd8cddbc9a7c3c6143",
            "a1367015977648a18aa1f1520483041f",
            "edf9e30d78404b9c9fc136544e9e7159",
            "1cfbda8d2f1d4e8194ba2daf89cb7880",
            "ddb8887e64f048efbd020eba4b333170",
            "067738c90b6643bd93c291a9bcf03f79",
            "e4d24ff764384c0aaa1391514050dfa1"
          ]
        }
      },
      "source": [
        "bert_model = TFBertModel.from_pretrained('bert-base-uncased')"
      ],
      "execution_count": 46,
      "outputs": [
        {
          "output_type": "display_data",
          "data": {
            "application/vnd.jupyter.widget-view+json": {
              "model_id": "1cfb9cd4303244a98a4f1ef018f32198",
              "version_minor": 0,
              "version_major": 2
            },
            "text/plain": [
              "HBox(children=(IntProgress(value=0, description='Downloading', max=361, style=ProgressStyle(description_width=…"
            ]
          },
          "metadata": {
            "tags": []
          }
        },
        {
          "output_type": "stream",
          "text": [
            "\n"
          ],
          "name": "stdout"
        },
        {
          "output_type": "display_data",
          "data": {
            "application/vnd.jupyter.widget-view+json": {
              "model_id": "2052e558a1c94bcbb89650909d55ef84",
              "version_minor": 0,
              "version_major": 2
            },
            "text/plain": [
              "HBox(children=(IntProgress(value=0, description='Downloading', max=536063208, style=ProgressStyle(description_…"
            ]
          },
          "metadata": {
            "tags": []
          }
        },
        {
          "output_type": "stream",
          "text": [
            "\n"
          ],
          "name": "stdout"
        }
      ]
    },
    {
      "cell_type": "code",
      "metadata": {
        "id": "zYO9cLTmY50t",
        "colab_type": "code",
        "outputId": "28c1f11d-17b0-4a4b-e826-641334dec1ac",
        "colab": {
          "base_uri": "https://localhost:8080/",
          "height": 187
        }
      },
      "source": [
        "bert_model.summary()"
      ],
      "execution_count": 47,
      "outputs": [
        {
          "output_type": "stream",
          "text": [
            "Model: \"tf_bert_model\"\n",
            "_________________________________________________________________\n",
            "Layer (type)                 Output Shape              Param #   \n",
            "=================================================================\n",
            "bert (TFBertMainLayer)       multiple                  109482240 \n",
            "=================================================================\n",
            "Total params: 109,482,240\n",
            "Trainable params: 109,482,240\n",
            "Non-trainable params: 0\n",
            "_________________________________________________________________\n"
          ],
          "name": "stdout"
        }
      ]
    },
    {
      "cell_type": "code",
      "metadata": {
        "id": "33pvFlxnY8-v",
        "colab_type": "code",
        "colab": {}
      },
      "source": [
        "output = bert_model([input_word_ids, input_mask, segment_ids])\n",
        "X = tf.keras.layers.Dense(128, 'relu')(output[1])\n",
        "Y = tf.keras.layers.Dropout(0.4)(X)\n",
        "output1 = tf.keras.layers.Dense(1, 'sigmoid')(Y)\n",
        "model1 = tf.keras.models.Model([input_word_ids, input_mask, segment_ids], output1)"
      ],
      "execution_count": 0,
      "outputs": []
    },
    {
      "cell_type": "code",
      "metadata": {
        "id": "Fze5NOZ6Y94y",
        "colab_type": "code",
        "outputId": "316eaa45-7a9c-402a-86f4-2b19004323cb",
        "colab": {
          "base_uri": "https://localhost:8080/",
          "height": 425
        }
      },
      "source": [
        "model1.summary()"
      ],
      "execution_count": 0,
      "outputs": [
        {
          "output_type": "stream",
          "text": [
            "Model: \"model\"\n",
            "__________________________________________________________________________________________________\n",
            "Layer (type)                    Output Shape         Param #     Connected to                     \n",
            "==================================================================================================\n",
            "input_word_ids (InputLayer)     [(None, 64)]         0                                            \n",
            "__________________________________________________________________________________________________\n",
            "input_mask (InputLayer)         [(None, 64)]         0                                            \n",
            "__________________________________________________________________________________________________\n",
            "segment_ids (InputLayer)        [(None, 64)]         0                                            \n",
            "__________________________________________________________________________________________________\n",
            "tf_bert_model (TFBertModel)     ((None, 64, 768), (N 109482240   input_word_ids[0][0]             \n",
            "                                                                 input_mask[0][0]                 \n",
            "                                                                 segment_ids[0][0]                \n",
            "__________________________________________________________________________________________________\n",
            "dense (Dense)                   (None, 128)          98432       tf_bert_model[0][1]              \n",
            "__________________________________________________________________________________________________\n",
            "dropout_37 (Dropout)            (None, 128)          0           dense[0][0]                      \n",
            "__________________________________________________________________________________________________\n",
            "dense_1 (Dense)                 (None, 1)            129         dropout_37[0][0]                 \n",
            "==================================================================================================\n",
            "Total params: 109,580,801\n",
            "Trainable params: 109,580,801\n",
            "Non-trainable params: 0\n",
            "__________________________________________________________________________________________________\n"
          ],
          "name": "stdout"
        }
      ]
    },
    {
      "cell_type": "code",
      "metadata": {
        "id": "R8OLzDF_Y_h6",
        "colab_type": "code",
        "outputId": "c6b73ef2-f031-41fb-b55e-d94a0b8c2dcb",
        "colab": {
          "base_uri": "https://localhost:8080/",
          "height": 156
        }
      },
      "source": [
        "!pip install tfa-nightly"
      ],
      "execution_count": 0,
      "outputs": [
        {
          "output_type": "stream",
          "text": [
            "Collecting tfa-nightly\n",
            "\u001b[?25l  Downloading https://files.pythonhosted.org/packages/e5/51/b26978d7391b7ab45c2d3a4da68d604281491e88e3358cdcb5453f6e0240/tfa_nightly-0.9.0.dev20200227-cp36-cp36m-manylinux2010_x86_64.whl (1.0MB)\n",
            "\r\u001b[K     |▎                               | 10kB 25.1MB/s eta 0:00:01\r\u001b[K     |▋                               | 20kB 3.3MB/s eta 0:00:01\r\u001b[K     |█                               | 30kB 4.7MB/s eta 0:00:01\r\u001b[K     |█▎                              | 40kB 3.1MB/s eta 0:00:01\r\u001b[K     |█▋                              | 51kB 3.8MB/s eta 0:00:01\r\u001b[K     |██                              | 61kB 4.5MB/s eta 0:00:01\r\u001b[K     |██▎                             | 71kB 5.2MB/s eta 0:00:01\r\u001b[K     |██▋                             | 81kB 5.9MB/s eta 0:00:01\r\u001b[K     |███                             | 92kB 6.5MB/s eta 0:00:01\r\u001b[K     |███▎                            | 102kB 5.1MB/s eta 0:00:01\r\u001b[K     |███▋                            | 112kB 5.1MB/s eta 0:00:01\r\u001b[K     |████                            | 122kB 5.1MB/s eta 0:00:01\r\u001b[K     |████▎                           | 133kB 5.1MB/s eta 0:00:01\r\u001b[K     |████▋                           | 143kB 5.1MB/s eta 0:00:01\r\u001b[K     |█████                           | 153kB 5.1MB/s eta 0:00:01\r\u001b[K     |█████▎                          | 163kB 5.1MB/s eta 0:00:01\r\u001b[K     |█████▌                          | 174kB 5.1MB/s eta 0:00:01\r\u001b[K     |█████▉                          | 184kB 5.1MB/s eta 0:00:01\r\u001b[K     |██████▏                         | 194kB 5.1MB/s eta 0:00:01\r\u001b[K     |██████▌                         | 204kB 5.1MB/s eta 0:00:01\r\u001b[K     |██████▉                         | 215kB 5.1MB/s eta 0:00:01\r\u001b[K     |███████▏                        | 225kB 5.1MB/s eta 0:00:01\r\u001b[K     |███████▌                        | 235kB 5.1MB/s eta 0:00:01\r\u001b[K     |███████▉                        | 245kB 5.1MB/s eta 0:00:01\r\u001b[K     |████████▏                       | 256kB 5.1MB/s eta 0:00:01\r\u001b[K     |████████▌                       | 266kB 5.1MB/s eta 0:00:01\r\u001b[K     |████████▉                       | 276kB 5.1MB/s eta 0:00:01\r\u001b[K     |█████████▏                      | 286kB 5.1MB/s eta 0:00:01\r\u001b[K     |█████████▌                      | 296kB 5.1MB/s eta 0:00:01\r\u001b[K     |█████████▉                      | 307kB 5.1MB/s eta 0:00:01\r\u001b[K     |██████████▏                     | 317kB 5.1MB/s eta 0:00:01\r\u001b[K     |██████████▌                     | 327kB 5.1MB/s eta 0:00:01\r\u001b[K     |██████████▊                     | 337kB 5.1MB/s eta 0:00:01\r\u001b[K     |███████████                     | 348kB 5.1MB/s eta 0:00:01\r\u001b[K     |███████████▍                    | 358kB 5.1MB/s eta 0:00:01\r\u001b[K     |███████████▊                    | 368kB 5.1MB/s eta 0:00:01\r\u001b[K     |████████████                    | 378kB 5.1MB/s eta 0:00:01\r\u001b[K     |████████████▍                   | 389kB 5.1MB/s eta 0:00:01\r\u001b[K     |████████████▊                   | 399kB 5.1MB/s eta 0:00:01\r\u001b[K     |█████████████                   | 409kB 5.1MB/s eta 0:00:01\r\u001b[K     |█████████████▍                  | 419kB 5.1MB/s eta 0:00:01\r\u001b[K     |█████████████▊                  | 430kB 5.1MB/s eta 0:00:01\r\u001b[K     |██████████████                  | 440kB 5.1MB/s eta 0:00:01\r\u001b[K     |██████████████▍                 | 450kB 5.1MB/s eta 0:00:01\r\u001b[K     |██████████████▊                 | 460kB 5.1MB/s eta 0:00:01\r\u001b[K     |███████████████                 | 471kB 5.1MB/s eta 0:00:01\r\u001b[K     |███████████████▍                | 481kB 5.1MB/s eta 0:00:01\r\u001b[K     |███████████████▊                | 491kB 5.1MB/s eta 0:00:01\r\u001b[K     |████████████████                | 501kB 5.1MB/s eta 0:00:01\r\u001b[K     |████████████████▎               | 512kB 5.1MB/s eta 0:00:01\r\u001b[K     |████████████████▋               | 522kB 5.1MB/s eta 0:00:01\r\u001b[K     |█████████████████               | 532kB 5.1MB/s eta 0:00:01\r\u001b[K     |█████████████████▎              | 542kB 5.1MB/s eta 0:00:01\r\u001b[K     |█████████████████▋              | 552kB 5.1MB/s eta 0:00:01\r\u001b[K     |██████████████████              | 563kB 5.1MB/s eta 0:00:01\r\u001b[K     |██████████████████▎             | 573kB 5.1MB/s eta 0:00:01\r\u001b[K     |██████████████████▋             | 583kB 5.1MB/s eta 0:00:01\r\u001b[K     |███████████████████             | 593kB 5.1MB/s eta 0:00:01\r\u001b[K     |███████████████████▎            | 604kB 5.1MB/s eta 0:00:01\r\u001b[K     |███████████████████▋            | 614kB 5.1MB/s eta 0:00:01\r\u001b[K     |████████████████████            | 624kB 5.1MB/s eta 0:00:01\r\u001b[K     |████████████████████▎           | 634kB 5.1MB/s eta 0:00:01\r\u001b[K     |████████████████████▋           | 645kB 5.1MB/s eta 0:00:01\r\u001b[K     |█████████████████████           | 655kB 5.1MB/s eta 0:00:01\r\u001b[K     |█████████████████████▎          | 665kB 5.1MB/s eta 0:00:01\r\u001b[K     |█████████████████████▌          | 675kB 5.1MB/s eta 0:00:01\r\u001b[K     |█████████████████████▉          | 686kB 5.1MB/s eta 0:00:01\r\u001b[K     |██████████████████████▏         | 696kB 5.1MB/s eta 0:00:01\r\u001b[K     |██████████████████████▌         | 706kB 5.1MB/s eta 0:00:01\r\u001b[K     |██████████████████████▉         | 716kB 5.1MB/s eta 0:00:01\r\u001b[K     |███████████████████████▏        | 727kB 5.1MB/s eta 0:00:01\r\u001b[K     |███████████████████████▌        | 737kB 5.1MB/s eta 0:00:01\r\u001b[K     |███████████████████████▉        | 747kB 5.1MB/s eta 0:00:01\r\u001b[K     |████████████████████████▏       | 757kB 5.1MB/s eta 0:00:01\r\u001b[K     |████████████████████████▌       | 768kB 5.1MB/s eta 0:00:01\r\u001b[K     |████████████████████████▉       | 778kB 5.1MB/s eta 0:00:01\r\u001b[K     |█████████████████████████▏      | 788kB 5.1MB/s eta 0:00:01\r\u001b[K     |█████████████████████████▌      | 798kB 5.1MB/s eta 0:00:01\r\u001b[K     |█████████████████████████▉      | 808kB 5.1MB/s eta 0:00:01\r\u001b[K     |██████████████████████████▏     | 819kB 5.1MB/s eta 0:00:01\r\u001b[K     |██████████████████████████▌     | 829kB 5.1MB/s eta 0:00:01\r\u001b[K     |██████████████████████████▉     | 839kB 5.1MB/s eta 0:00:01\r\u001b[K     |███████████████████████████     | 849kB 5.1MB/s eta 0:00:01\r\u001b[K     |███████████████████████████▍    | 860kB 5.1MB/s eta 0:00:01\r\u001b[K     |███████████████████████████▊    | 870kB 5.1MB/s eta 0:00:01\r\u001b[K     |████████████████████████████    | 880kB 5.1MB/s eta 0:00:01\r\u001b[K     |████████████████████████████▍   | 890kB 5.1MB/s eta 0:00:01\r\u001b[K     |████████████████████████████▊   | 901kB 5.1MB/s eta 0:00:01\r\u001b[K     |█████████████████████████████   | 911kB 5.1MB/s eta 0:00:01\r\u001b[K     |█████████████████████████████▍  | 921kB 5.1MB/s eta 0:00:01\r\u001b[K     |█████████████████████████████▊  | 931kB 5.1MB/s eta 0:00:01\r\u001b[K     |██████████████████████████████  | 942kB 5.1MB/s eta 0:00:01\r\u001b[K     |██████████████████████████████▍ | 952kB 5.1MB/s eta 0:00:01\r\u001b[K     |██████████████████████████████▊ | 962kB 5.1MB/s eta 0:00:01\r\u001b[K     |███████████████████████████████ | 972kB 5.1MB/s eta 0:00:01\r\u001b[K     |███████████████████████████████▍| 983kB 5.1MB/s eta 0:00:01\r\u001b[K     |███████████████████████████████▊| 993kB 5.1MB/s eta 0:00:01\r\u001b[K     |████████████████████████████████| 1.0MB 5.1MB/s \n",
            "\u001b[?25hCollecting typeguard>=2.7\n",
            "  Downloading https://files.pythonhosted.org/packages/06/37/d236aec27f8a8eed66f1a17116eb51684528cf8005a6883f879fe2e842ae/typeguard-2.7.1-py3-none-any.whl\n",
            "Installing collected packages: typeguard, tfa-nightly\n",
            "Successfully installed tfa-nightly-0.9.0.dev20200227 typeguard-2.7.1\n"
          ],
          "name": "stdout"
        }
      ]
    },
    {
      "cell_type": "code",
      "metadata": {
        "id": "I6YNiXJAZCuU",
        "colab_type": "code",
        "colab": {}
      },
      "source": [
        "import tensorflow_addons as tfa"
      ],
      "execution_count": 0,
      "outputs": []
    },
    {
      "cell_type": "code",
      "metadata": {
        "id": "Q13RuDK-ZEIz",
        "colab_type": "code",
        "colab": {}
      },
      "source": [
        "optimizer = tfa.optimizers.AdamW(learning_rate = 2e-5, # args.learning_rate - default is 5e-5, our notebook had 2e-5\n",
        "                  epsilon = 1e-8, # args.adam_epsilon  - default is 1e-8.\n",
        "                  weight_decay = 1e-7\n",
        "                )"
      ],
      "execution_count": 0,
      "outputs": []
    },
    {
      "cell_type": "code",
      "metadata": {
        "id": "fJ_e25tPZFZf",
        "colab_type": "code",
        "colab": {}
      },
      "source": [
        "model1.compile(optimizer= optimizer, loss='binary_crossentropy', metrics=['accuracy'])"
      ],
      "execution_count": 0,
      "outputs": []
    },
    {
      "cell_type": "code",
      "metadata": {
        "id": "1dptThbEZMm-",
        "colab_type": "code",
        "colab": {}
      },
      "source": [
        "labels = data['output'].values"
      ],
      "execution_count": 0,
      "outputs": []
    },
    {
      "cell_type": "code",
      "metadata": {
        "id": "xHKbMEU9jRUt",
        "colab_type": "code",
        "outputId": "d98c8a52-c5bf-47ff-f9c5-2a06d7e83410",
        "colab": {
          "base_uri": "https://localhost:8080/",
          "height": 34
        }
      },
      "source": [
        "nlp(cleaned_data['Cleaned_input'][0])[6].is_digit"
      ],
      "execution_count": 0,
      "outputs": [
        {
          "output_type": "execute_result",
          "data": {
            "text/plain": [
              "False"
            ]
          },
          "metadata": {
            "tags": []
          },
          "execution_count": 84
        }
      ]
    },
    {
      "cell_type": "code",
      "metadata": {
        "id": "DRas7b2zkYzg",
        "colab_type": "code",
        "colab": {}
      },
      "source": [
        "import re"
      ],
      "execution_count": 0,
      "outputs": []
    },
    {
      "cell_type": "code",
      "metadata": {
        "id": "aVN-WchjkC29",
        "colab_type": "code",
        "outputId": "75eb814e-f62d-46fb-bd34-689c4070729b",
        "colab": {
          "base_uri": "https://localhost:8080/",
          "height": 34
        }
      },
      "source": [
        "re.sub(r'([^a-zA-Z\\s]+?)', '', \"'226710': 'Kevi#$%^&n Werbach'\")"
      ],
      "execution_count": 0,
      "outputs": [
        {
          "output_type": "execute_result",
          "data": {
            "text/plain": [
              "' Kevin Werbach'"
            ]
          },
          "metadata": {
            "tags": []
          },
          "execution_count": 88
        }
      ]
    },
    {
      "cell_type": "code",
      "metadata": {
        "id": "babhK1DMap6a",
        "colab_type": "code",
        "outputId": "8e152c76-5d6b-45ef-b1e0-2fd2e29e1f88",
        "colab": {
          "base_uri": "https://localhost:8080/",
          "height": 51
        }
      },
      "source": [
        "import spacy #load spacy\n",
        "import re\n",
        "import nltk\n",
        "nltk.download('stopwords')\n",
        "from nltk.corpus import stopwords\n",
        "nlp = spacy.load(\"en\", disable=['parser', 'tagger', 'ner'])\n",
        "stops = stopwords.words(\"english\")\n",
        "\n",
        "\n",
        "\n",
        "def normalize(comment, lowercase = True):\n",
        "  count = True\n",
        "  if lowercase:\n",
        "      comment = comment.lower()\n",
        "\n",
        "  comment = re.sub(r'([^a-zA-Z\\s]+?)', ' ', comment)\n",
        "  comment = nlp(comment)\n",
        "  lemmatized = list()\n",
        "  for word in comment:\n",
        "      if not (word.is_punct or word.is_digit) :\n",
        "        lemma = word.lemma_.strip()\n",
        "\n",
        "        if lemma and count:\n",
        "          if  ((lemma not in stops)):\n",
        "              if (re.compile(r\"\\(|\\[|\\<\").search(lemma) != None):\n",
        "                if (re.compile(r\"\\(|\\[|\\<\").search(lemma).span()[0] == 0):\n",
        "                  count = False;\n",
        "                else:\n",
        "                  lemmatized.append(lemma.split('(')[0])\n",
        "                  count = False\n",
        "              else:\n",
        "                lemmatized.append(lemma)\n",
        "\n",
        "        if (not count) and (re.compile(r\"\\)|\\]|\\>\").search(lemma) != None):\n",
        "          count = True\n",
        " \n",
        "\n",
        "  return \" \".join(lemmatized).replace('\\ufeff1','1')\n"
      ],
      "execution_count": 0,
      "outputs": [
        {
          "output_type": "stream",
          "text": [
            "[nltk_data] Downloading package stopwords to /root/nltk_data...\n",
            "[nltk_data]   Package stopwords is already up-to-date!\n"
          ],
          "name": "stdout"
        }
      ]
    },
    {
      "cell_type": "code",
      "metadata": {
        "id": "h8iuAES7ktqW",
        "colab_type": "code",
        "outputId": "2bcf284f-3cad-4811-a713-2de96c7b3499",
        "colab": {
          "base_uri": "https://localhost:8080/",
          "height": 54
        }
      },
      "source": [
        "data['input'][0]"
      ],
      "execution_count": 0,
      "outputs": [
        {
          "output_type": "execute_result",
          "data": {
            "text/plain": [
              "'Jefferies Financial Group EPS misses by $0.19, misses on revenue. Jefferies Financial Group (NYSE:JEF): Q3 GAAP EPS of $0.15 misses by $0.19.Revenue of $856.78M (-25.5% Y/Y) misses by $136.42M.Press Release'"
            ]
          },
          "metadata": {
            "tags": []
          },
          "execution_count": 93
        }
      ]
    },
    {
      "cell_type": "code",
      "metadata": {
        "id": "MuQjOB4GhMfD",
        "colab_type": "code",
        "outputId": "c0938e8c-94fd-4334-dfee-fd0aa150f1b0",
        "colab": {
          "base_uri": "https://localhost:8080/",
          "height": 34
        }
      },
      "source": [
        "normalize(data['input'][0])"
      ],
      "execution_count": 0,
      "outputs": [
        {
          "output_type": "execute_result",
          "data": {
            "text/plain": [
              "'jefferies financial group eps miss miss revenue jefferies financial group nyse jef q gaap eps miss revenue miss press release'"
            ]
          },
          "metadata": {
            "tags": []
          },
          "execution_count": 94
        }
      ]
    },
    {
      "cell_type": "code",
      "metadata": {
        "id": "k-_m2zcjauvm",
        "colab_type": "code",
        "colab": {}
      },
      "source": [
        "def pre_process_text(target_df):\n",
        "\n",
        "  target_df.dropna(inplace = True)\n",
        "\n",
        "  target_df = target_df.reset_index()\n",
        "\n",
        "  target_df['Cleaned_input'] = target_df['input'].apply(normalize, lowercase=True)\n",
        "\n",
        "  return target_df\n"
      ],
      "execution_count": 0,
      "outputs": []
    },
    {
      "cell_type": "code",
      "metadata": {
        "id": "bKUEx-kUa6Jr",
        "colab_type": "code",
        "colab": {}
      },
      "source": [
        "from multiprocessing import Pool\n",
        "def parallelize_dataframe(df, func, n_cores=2):\n",
        "    df_split = np.array_split(df, n_cores)\n",
        "    pool = Pool(n_cores)\n",
        "    df = pd.concat(pool.map(func, df_split))\n",
        "    pool.close()\n",
        "    pool.join()\n",
        "    \n",
        "    return df.reset_index(drop = True)"
      ],
      "execution_count": 0,
      "outputs": []
    },
    {
      "cell_type": "code",
      "metadata": {
        "id": "AkNC4AJ_bB41",
        "colab_type": "code",
        "colab": {}
      },
      "source": [
        "cleaned_data = parallelize_dataframe(data,pre_process_text)"
      ],
      "execution_count": 0,
      "outputs": []
    },
    {
      "cell_type": "code",
      "metadata": {
        "id": "jemoIcplbSqW",
        "colab_type": "code",
        "outputId": "c1995c78-0e69-4c0d-e00e-9b3917fd3f08",
        "colab": {
          "base_uri": "https://localhost:8080/",
          "height": 34
        }
      },
      "source": [
        "cleaned_data['Cleaned_input'][0]"
      ],
      "execution_count": 0,
      "outputs": [
        {
          "output_type": "execute_result",
          "data": {
            "text/plain": [
              "'jefferies financial group eps miss miss revenue jefferies financial group nyse jef q gaap eps miss revenue miss press release'"
            ]
          },
          "metadata": {
            "tags": []
          },
          "execution_count": 98
        }
      ]
    },
    {
      "cell_type": "code",
      "metadata": {
        "id": "wIxTy5hLlXVE",
        "colab_type": "code",
        "colab": {}
      },
      "source": [
        "length=[]\n",
        "for i in cleaned_data['Cleaned_input']:\n",
        "  length.append(len(i.split()))\n"
      ],
      "execution_count": 0,
      "outputs": []
    },
    {
      "cell_type": "code",
      "metadata": {
        "id": "F1YIpN2RmR9L",
        "colab_type": "code",
        "outputId": "20b4f56f-6ec4-4873-b002-649a1f8c4b2e",
        "colab": {
          "base_uri": "https://localhost:8080/",
          "height": 34
        }
      },
      "source": [
        "np.mean(length)"
      ],
      "execution_count": 0,
      "outputs": [
        {
          "output_type": "execute_result",
          "data": {
            "text/plain": [
              "33.1554739588366"
            ]
          },
          "metadata": {
            "tags": []
          },
          "execution_count": 109
        }
      ]
    },
    {
      "cell_type": "code",
      "metadata": {
        "id": "mUxMxF5Ml3XX",
        "colab_type": "code",
        "outputId": "91fb2a6d-e250-4c54-b1d8-e16263033bf1",
        "colab": {
          "base_uri": "https://localhost:8080/",
          "height": 54
        }
      },
      "source": [
        "cleaned_data['Cleaned_input'][16]"
      ],
      "execution_count": 0,
      "outputs": [
        {
          "output_type": "execute_result",
          "data": {
            "text/plain": [
              "'wwe superstar becky lynch big show feature million post cereal box post consumer brand wwe nyse wwe today announce expand partnership bring thrill excitement wwe cereal box'"
            ]
          },
          "metadata": {
            "tags": []
          },
          "execution_count": 103
        }
      ]
    },
    {
      "cell_type": "code",
      "metadata": {
        "id": "Y4nEBJZci4vx",
        "colab_type": "code",
        "outputId": "9f9a4d89-a3bb-4a69-b7e3-24f5d6c380ce",
        "colab": {
          "base_uri": "https://localhost:8080/",
          "height": 34
        }
      },
      "source": [
        "# Tokenize all of the sentences and map the tokens to thier word IDs.\n",
        "ids = []\n",
        "masks=[]\n",
        "segments=[]\n",
        "\n",
        "# For every sentence...\n",
        "for s in tqdm(cleaned_data['Cleaned_input']):\n",
        "    \n",
        "    stokens = tokenizer.tokenize(s, lower= True)\n",
        "    stokens = stokens[0:30]\n",
        "    stokens = [\"[CLS]\"] + stokens + [\"[SEP]\"]\n",
        "\n",
        "    input_ids = get_ids(stokens, tokenizer, max_seq_length)\n",
        "    input_masks = get_masks(stokens, max_seq_length)\n",
        "    input_segments = get_segments(stokens, max_seq_length)\n",
        "\n",
        "    ids.append(input_ids)\n",
        "    masks.append(input_masks)\n",
        "    segments.append(input_segments)\n"
      ],
      "execution_count": 0,
      "outputs": [
        {
          "output_type": "stream",
          "text": [
            "100%|██████████| 10349/10349 [00:08<00:00, 1190.21it/s]\n"
          ],
          "name": "stderr"
        }
      ]
    },
    {
      "cell_type": "code",
      "metadata": {
        "id": "ZRYFMWa0i-F_",
        "colab_type": "code",
        "colab": {}
      },
      "source": [
        "ids = np.array(ids)\n",
        "masks = np.array(masks)\n",
        "segments = np.array(segments)"
      ],
      "execution_count": 0,
      "outputs": []
    },
    {
      "cell_type": "code",
      "metadata": {
        "id": "eEzioiCvZHqH",
        "colab_type": "code",
        "outputId": "24dfeda7-1dd9-4764-9df4-bb95e1c9dc40",
        "colab": {
          "base_uri": "https://localhost:8080/",
          "height": 187
        }
      },
      "source": [
        "model1.fit([ids, masks, segments], labels, epochs= 4 ,validation_split=0.2, batch_size= 64 , shuffle= True)"
      ],
      "execution_count": 0,
      "outputs": [
        {
          "output_type": "stream",
          "text": [
            "Train on 8279 samples, validate on 2070 samples\n",
            "Epoch 1/4\n",
            "8279/8279 [==============================] - 82s 10ms/sample - loss: 0.1935 - accuracy: 0.9256 - val_loss: 0.0903 - val_accuracy: 0.9696\n",
            "Epoch 2/4\n",
            "8279/8279 [==============================] - 66s 8ms/sample - loss: 0.0736 - accuracy: 0.9742 - val_loss: 0.0763 - val_accuracy: 0.9725\n",
            "Epoch 3/4\n",
            "8279/8279 [==============================] - 66s 8ms/sample - loss: 0.0485 - accuracy: 0.9833 - val_loss: 0.0721 - val_accuracy: 0.9783\n",
            "Epoch 4/4\n",
            "8279/8279 [==============================] - 66s 8ms/sample - loss: 0.0299 - accuracy: 0.9907 - val_loss: 0.0925 - val_accuracy: 0.9783\n"
          ],
          "name": "stdout"
        },
        {
          "output_type": "execute_result",
          "data": {
            "text/plain": [
              "<tensorflow.python.keras.callbacks.History at 0x7f69d6a9b128>"
            ]
          },
          "metadata": {
            "tags": []
          },
          "execution_count": 112
        }
      ]
    },
    {
      "cell_type": "code",
      "metadata": {
        "id": "qoW_rdyqZUBR",
        "colab_type": "code",
        "colab": {}
      },
      "source": [
        "test  = get_news(\"(title:earnings OR description:earnings) OR (title:quarter)\", 'publishedAt:[2019-10-01 TO 2019-12-31]')"
      ],
      "execution_count": 0,
      "outputs": []
    },
    {
      "cell_type": "code",
      "metadata": {
        "id": "_Hw7Y-WSqDEd",
        "colab_type": "code",
        "colab": {}
      },
      "source": [
        "other  = get_news('publishedAt:[2019-10-01 TO 2019-12-31]')"
      ],
      "execution_count": 0,
      "outputs": []
    },
    {
      "cell_type": "code",
      "metadata": {
        "id": "WtPaLCWMnxVU",
        "colab_type": "code",
        "colab": {}
      },
      "source": [
        "test_df = pd.DataFrame(test['articles'])"
      ],
      "execution_count": 0,
      "outputs": []
    },
    {
      "cell_type": "code",
      "metadata": {
        "id": "E4WUVvmHqYc3",
        "colab_type": "code",
        "colab": {}
      },
      "source": [
        "other_df = pd.DataFrame(other['articles'])"
      ],
      "execution_count": 0,
      "outputs": []
    },
    {
      "cell_type": "code",
      "metadata": {
        "id": "vYHCd9shqYg1",
        "colab_type": "code",
        "colab": {}
      },
      "source": [
        "other_df =other_df[other_df['source'] != {'id': 'sec-api', 'name': 'SEC'}]\n",
        "test_df =test_df[test_df['source'] != {'id': 'sec-api', 'name': 'SEC'}]"
      ],
      "execution_count": 0,
      "outputs": []
    },
    {
      "cell_type": "code",
      "metadata": {
        "id": "7zq5Yej7qqZ0",
        "colab_type": "code",
        "colab": {}
      },
      "source": [
        "other = other_df[~other_df['id'].isin(test_df['id'])]"
      ],
      "execution_count": 0,
      "outputs": []
    },
    {
      "cell_type": "code",
      "metadata": {
        "id": "osPITCOGnyh4",
        "colab_type": "code",
        "outputId": "1b67eed6-fa04-4536-b7c7-0dc7d1d1e547",
        "colab": {
          "base_uri": "https://localhost:8080/",
          "height": 34
        }
      },
      "source": [
        "test_df.shape, other.shape"
      ],
      "execution_count": 0,
      "outputs": [
        {
          "output_type": "execute_result",
          "data": {
            "text/plain": [
              "((9867, 20), (4832, 20))"
            ]
          },
          "metadata": {
            "tags": []
          },
          "execution_count": 160
        }
      ]
    },
    {
      "cell_type": "code",
      "metadata": {
        "id": "jxMI167xq8Vo",
        "colab_type": "code",
        "outputId": "921f77a2-1f19-4232-cf5e-92b2a266abd2",
        "colab": {
          "base_uri": "https://localhost:8080/",
          "height": 119
        }
      },
      "source": [
        "test_df['output'] =1\n",
        "other['output'] = 0"
      ],
      "execution_count": 0,
      "outputs": [
        {
          "output_type": "stream",
          "text": [
            "/usr/local/lib/python3.6/dist-packages/ipykernel_launcher.py:2: SettingWithCopyWarning: \n",
            "A value is trying to be set on a copy of a slice from a DataFrame.\n",
            "Try using .loc[row_indexer,col_indexer] = value instead\n",
            "\n",
            "See the caveats in the documentation: http://pandas.pydata.org/pandas-docs/stable/user_guide/indexing.html#returning-a-view-versus-a-copy\n",
            "  \n"
          ],
          "name": "stderr"
        }
      ]
    },
    {
      "cell_type": "code",
      "metadata": {
        "id": "bD1vd9Lgq5Ez",
        "colab_type": "code",
        "outputId": "967310e3-16ce-48c1-ffe1-5f670063781e",
        "colab": {
          "base_uri": "https://localhost:8080/",
          "height": 153
        }
      },
      "source": [
        "input_df = test_df.append(other).reset_index(drop=True)"
      ],
      "execution_count": 0,
      "outputs": [
        {
          "output_type": "stream",
          "text": [
            "/usr/local/lib/python3.6/dist-packages/pandas/core/frame.py:7138: FutureWarning: Sorting because non-concatenation axis is not aligned. A future version\n",
            "of pandas will change to not sort by default.\n",
            "\n",
            "To accept the future behavior, pass 'sort=False'.\n",
            "\n",
            "To retain the current behavior and silence the warning, pass 'sort=True'.\n",
            "\n",
            "  sort=sort,\n"
          ],
          "name": "stderr"
        }
      ]
    },
    {
      "cell_type": "code",
      "metadata": {
        "id": "LxS_i9rUrLaQ",
        "colab_type": "code",
        "outputId": "9ac74a51-5155-469a-a57b-05bf5c35c1d4",
        "colab": {
          "base_uri": "https://localhost:8080/",
          "height": 932
        }
      },
      "source": [
        "input_df"
      ],
      "execution_count": 0,
      "outputs": [
        {
          "output_type": "execute_result",
          "data": {
            "text/html": [
              "<div>\n",
              "<style scoped>\n",
              "    .dataframe tbody tr th:only-of-type {\n",
              "        vertical-align: middle;\n",
              "    }\n",
              "\n",
              "    .dataframe tbody tr th {\n",
              "        vertical-align: top;\n",
              "    }\n",
              "\n",
              "    .dataframe thead th {\n",
              "        text-align: right;\n",
              "    }\n",
              "</style>\n",
              "<table border=\"1\" class=\"dataframe\">\n",
              "  <thead>\n",
              "    <tr style=\"text-align: right;\">\n",
              "      <th></th>\n",
              "      <th>author</th>\n",
              "      <th>categories</th>\n",
              "      <th>content</th>\n",
              "      <th>country</th>\n",
              "      <th>description</th>\n",
              "      <th>details</th>\n",
              "      <th>id</th>\n",
              "      <th>imageUrl</th>\n",
              "      <th>important</th>\n",
              "      <th>industries</th>\n",
              "      <th>markets</th>\n",
              "      <th>output</th>\n",
              "      <th>publishedAt</th>\n",
              "      <th>sectors</th>\n",
              "      <th>source</th>\n",
              "      <th>symbols</th>\n",
              "      <th>thumbnail</th>\n",
              "      <th>title</th>\n",
              "      <th>url</th>\n",
              "      <th>usFdaDrugApprovalDetails</th>\n",
              "      <th>usFdaType</th>\n",
              "      <th>videoDuration</th>\n",
              "      <th>videoType</th>\n",
              "      <th>videoUrl</th>\n",
              "    </tr>\n",
              "  </thead>\n",
              "  <tbody>\n",
              "    <tr>\n",
              "      <th>0</th>\n",
              "      <td>NaN</td>\n",
              "      <td>[]</td>\n",
              "      <td></td>\n",
              "      <td>NaN</td>\n",
              "      <td>Analysts forecast that Grand Canyon Education ...</td>\n",
              "      <td>NaN</td>\n",
              "      <td>90c035791e123567a719acfa96ab1865</td>\n",
              "      <td>https://www.americanbankingnews.com/wp-content...</td>\n",
              "      <td>NaN</td>\n",
              "      <td>[Education &amp; Training Services]</td>\n",
              "      <td>[]</td>\n",
              "      <td>1</td>\n",
              "      <td>2019-12-31T23:35:37+00:00</td>\n",
              "      <td>[Consumer Defensive]</td>\n",
              "      <td>{'id': 'TheStockObserver', 'name': 'The Stock ...</td>\n",
              "      <td>[LOPE]</td>\n",
              "      <td>NaN</td>\n",
              "      <td>$213.92 Million in Sales Expected for Grand Ca...</td>\n",
              "      <td>https://newsfilter.io/articles/21392-million-i...</td>\n",
              "      <td>NaN</td>\n",
              "      <td>NaN</td>\n",
              "      <td>NaN</td>\n",
              "      <td>NaN</td>\n",
              "      <td>NaN</td>\n",
              "    </tr>\n",
              "    <tr>\n",
              "      <th>1</th>\n",
              "      <td>NaN</td>\n",
              "      <td>[]</td>\n",
              "      <td></td>\n",
              "      <td>NaN</td>\n",
              "      <td>Brokerages forecast that Aramark (NYSE:ARMK) w...</td>\n",
              "      <td>NaN</td>\n",
              "      <td>b980f68994c1b9cef74f8ef97e47ae65</td>\n",
              "      <td>https://www.americanbankingnews.com/wp-content...</td>\n",
              "      <td>NaN</td>\n",
              "      <td>[Restaurants]</td>\n",
              "      <td>[]</td>\n",
              "      <td>1</td>\n",
              "      <td>2019-12-31T23:16:53+00:00</td>\n",
              "      <td>[Consumer Cyclical]</td>\n",
              "      <td>{'id': 'TheStockObserver', 'name': 'The Stock ...</td>\n",
              "      <td>[ARMK]</td>\n",
              "      <td>NaN</td>\n",
              "      <td>$4.31 Billion in Sales Expected for Aramark (N...</td>\n",
              "      <td>https://newsfilter.io/articles/431-billion-in-...</td>\n",
              "      <td>NaN</td>\n",
              "      <td>NaN</td>\n",
              "      <td>NaN</td>\n",
              "      <td>NaN</td>\n",
              "      <td>NaN</td>\n",
              "    </tr>\n",
              "    <tr>\n",
              "      <th>2</th>\n",
              "      <td>NaN</td>\n",
              "      <td>[]</td>\n",
              "      <td></td>\n",
              "      <td>NaN</td>\n",
              "      <td>Wall Street brokerages expect that QuinStreet ...</td>\n",
              "      <td>NaN</td>\n",
              "      <td>42bb835b7291279e1baf8016aea39771</td>\n",
              "      <td>https://www.americanbankingnews.com/wp-content...</td>\n",
              "      <td>NaN</td>\n",
              "      <td>[Internet Content &amp; Information]</td>\n",
              "      <td>[]</td>\n",
              "      <td>1</td>\n",
              "      <td>2019-12-31T23:14:51+00:00</td>\n",
              "      <td>[Technology]</td>\n",
              "      <td>{'id': 'TheStockObserver', 'name': 'The Stock ...</td>\n",
              "      <td>[QNST]</td>\n",
              "      <td>NaN</td>\n",
              "      <td>$0.14 Earnings Per Share Expected for QuinStre...</td>\n",
              "      <td>https://newsfilter.io/articles/014-earnings-pe...</td>\n",
              "      <td>NaN</td>\n",
              "      <td>NaN</td>\n",
              "      <td>NaN</td>\n",
              "      <td>NaN</td>\n",
              "      <td>NaN</td>\n",
              "    </tr>\n",
              "    <tr>\n",
              "      <th>3</th>\n",
              "      <td>NaN</td>\n",
              "      <td>[]</td>\n",
              "      <td></td>\n",
              "      <td>NaN</td>\n",
              "      <td>Equities analysts expect Kindred Biosciences I...</td>\n",
              "      <td>NaN</td>\n",
              "      <td>38194c600105856008546c8568a1284a</td>\n",
              "      <td>https://www.americanbankingnews.com/wp-content...</td>\n",
              "      <td>NaN</td>\n",
              "      <td>[Biotechnology]</td>\n",
              "      <td>[]</td>\n",
              "      <td>1</td>\n",
              "      <td>2019-12-31T22:48:50+00:00</td>\n",
              "      <td>[Healthcare]</td>\n",
              "      <td>{'id': 'TheStockObserver', 'name': 'The Stock ...</td>\n",
              "      <td>[KIN]</td>\n",
              "      <td>NaN</td>\n",
              "      <td>Zacks: Analysts Expect Kindred Biosciences Inc...</td>\n",
              "      <td>https://newsfilter.io/articles/zacks-analysts-...</td>\n",
              "      <td>NaN</td>\n",
              "      <td>NaN</td>\n",
              "      <td>NaN</td>\n",
              "      <td>NaN</td>\n",
              "      <td>NaN</td>\n",
              "    </tr>\n",
              "    <tr>\n",
              "      <th>4</th>\n",
              "      <td>NaN</td>\n",
              "      <td>[]</td>\n",
              "      <td></td>\n",
              "      <td>NaN</td>\n",
              "      <td>Wall Street brokerages expect that Upwork Inc ...</td>\n",
              "      <td>NaN</td>\n",
              "      <td>680aba1ca31cc3e4b50cbe08f461f970</td>\n",
              "      <td>https://www.americanbankingnews.com/wp-content...</td>\n",
              "      <td>NaN</td>\n",
              "      <td>[Internet Content &amp; Information]</td>\n",
              "      <td>[]</td>\n",
              "      <td>1</td>\n",
              "      <td>2019-12-31T22:30:53+00:00</td>\n",
              "      <td>[Technology]</td>\n",
              "      <td>{'id': 'TheStockObserver', 'name': 'The Stock ...</td>\n",
              "      <td>[UPWK]</td>\n",
              "      <td>NaN</td>\n",
              "      <td>Upwork Inc (NASDAQ:UPWK) Expected to Post Quar...</td>\n",
              "      <td>https://newsfilter.io/articles/upwork-inc-nasd...</td>\n",
              "      <td>NaN</td>\n",
              "      <td>NaN</td>\n",
              "      <td>NaN</td>\n",
              "      <td>NaN</td>\n",
              "      <td>NaN</td>\n",
              "    </tr>\n",
              "    <tr>\n",
              "      <th>...</th>\n",
              "      <td>...</td>\n",
              "      <td>...</td>\n",
              "      <td>...</td>\n",
              "      <td>...</td>\n",
              "      <td>...</td>\n",
              "      <td>...</td>\n",
              "      <td>...</td>\n",
              "      <td>...</td>\n",
              "      <td>...</td>\n",
              "      <td>...</td>\n",
              "      <td>...</td>\n",
              "      <td>...</td>\n",
              "      <td>...</td>\n",
              "      <td>...</td>\n",
              "      <td>...</td>\n",
              "      <td>...</td>\n",
              "      <td>...</td>\n",
              "      <td>...</td>\n",
              "      <td>...</td>\n",
              "      <td>...</td>\n",
              "      <td>...</td>\n",
              "      <td>...</td>\n",
              "      <td>...</td>\n",
              "      <td>...</td>\n",
              "    </tr>\n",
              "    <tr>\n",
              "      <th>14694</th>\n",
              "      <td>NaN</td>\n",
              "      <td>[]</td>\n",
              "      <td></td>\n",
              "      <td>NaN</td>\n",
              "      <td>Cascades Inc (OTCMKTS:CADNF) has received an a...</td>\n",
              "      <td>NaN</td>\n",
              "      <td>22339625b44b360abe8321cc70661362</td>\n",
              "      <td>https://www.americanbankingnews.com/wp-content...</td>\n",
              "      <td>NaN</td>\n",
              "      <td>[]</td>\n",
              "      <td>[]</td>\n",
              "      <td>0</td>\n",
              "      <td>2019-12-27T21:37:20+00:00</td>\n",
              "      <td>[]</td>\n",
              "      <td>{'id': 'TheStockObserver', 'name': 'The Stock ...</td>\n",
              "      <td>[]</td>\n",
              "      <td>NaN</td>\n",
              "      <td>Cascades Inc (OTCMKTS:CADNF) Receives Average ...</td>\n",
              "      <td>https://newsfilter.io/articles/cascades-inc-ot...</td>\n",
              "      <td>NaN</td>\n",
              "      <td>NaN</td>\n",
              "      <td>NaN</td>\n",
              "      <td>NaN</td>\n",
              "      <td>NaN</td>\n",
              "    </tr>\n",
              "    <tr>\n",
              "      <th>14695</th>\n",
              "      <td>NaN</td>\n",
              "      <td>[]</td>\n",
              "      <td></td>\n",
              "      <td>NaN</td>\n",
              "      <td>Shares of Tc Pipelines Lp (TSE:TRP) (NYSE:TRP)...</td>\n",
              "      <td>NaN</td>\n",
              "      <td>ddec68bbc6e2e9a6fa7081e21ef31bfa</td>\n",
              "      <td>https://www.americanbankingnews.com/wp-content...</td>\n",
              "      <td>NaN</td>\n",
              "      <td>[Oil &amp; Gas Midstream]</td>\n",
              "      <td>[]</td>\n",
              "      <td>0</td>\n",
              "      <td>2019-12-27T21:37:20+00:00</td>\n",
              "      <td>[Energy]</td>\n",
              "      <td>{'id': 'TheStockObserver', 'name': 'The Stock ...</td>\n",
              "      <td>[TRP]</td>\n",
              "      <td>NaN</td>\n",
              "      <td>Tc Pipelines Lp (TSE:TRP) Given Consensus Reco...</td>\n",
              "      <td>https://newsfilter.io/articles/tc-pipelines-lp...</td>\n",
              "      <td>NaN</td>\n",
              "      <td>NaN</td>\n",
              "      <td>NaN</td>\n",
              "      <td>NaN</td>\n",
              "      <td>NaN</td>\n",
              "    </tr>\n",
              "    <tr>\n",
              "      <th>14696</th>\n",
              "      <td>NaN</td>\n",
              "      <td>[]</td>\n",
              "      <td></td>\n",
              "      <td>NaN</td>\n",
              "      <td>Dollar Tree (NASDAQ:DLTR) was notified that TR...</td>\n",
              "      <td>NaN</td>\n",
              "      <td>e86b6507005fda460184a0f36279977e</td>\n",
              "      <td></td>\n",
              "      <td>NaN</td>\n",
              "      <td>[Discount Stores]</td>\n",
              "      <td>[]</td>\n",
              "      <td>0</td>\n",
              "      <td>2019-12-27T16:37:00-05:00</td>\n",
              "      <td>[Consumer Defensive]</td>\n",
              "      <td>{'id': 'seekingAlpha', 'name': 'Seeking Alpha'}</td>\n",
              "      <td>[DLTR]</td>\n",
              "      <td>NaN</td>\n",
              "      <td>Dollar Tree comments on TRC tender offer</td>\n",
              "      <td>https://newsfilter.io/articles/dollar-tree-com...</td>\n",
              "      <td>NaN</td>\n",
              "      <td>NaN</td>\n",
              "      <td>NaN</td>\n",
              "      <td>NaN</td>\n",
              "      <td>NaN</td>\n",
              "    </tr>\n",
              "    <tr>\n",
              "      <th>14697</th>\n",
              "      <td>NaN</td>\n",
              "      <td>[]</td>\n",
              "      <td></td>\n",
              "      <td>NaN</td>\n",
              "      <td>The Board of Directors (the \"Board\") of The Ch...</td>\n",
              "      <td>NaN</td>\n",
              "      <td>34d162a9b314c52671f3820ca773cde5</td>\n",
              "      <td></td>\n",
              "      <td>NaN</td>\n",
              "      <td>[]</td>\n",
              "      <td>[]</td>\n",
              "      <td>0</td>\n",
              "      <td>2019-12-27T16:35:00-05:00</td>\n",
              "      <td>[]</td>\n",
              "      <td>{'id': 'prNewswire', 'name': 'PR Newswire'}</td>\n",
              "      <td>[]</td>\n",
              "      <td>NaN</td>\n",
              "      <td>The China Fund, Inc. Confirms Distributions</td>\n",
              "      <td>https://newsfilter.io/articles/the-china-fund-...</td>\n",
              "      <td>NaN</td>\n",
              "      <td>NaN</td>\n",
              "      <td>NaN</td>\n",
              "      <td>NaN</td>\n",
              "      <td>NaN</td>\n",
              "    </tr>\n",
              "    <tr>\n",
              "      <th>14698</th>\n",
              "      <td>NaN</td>\n",
              "      <td>[]</td>\n",
              "      <td></td>\n",
              "      <td>NaN</td>\n",
              "      <td>BOCA RATON, Fla.--(BUSINESS WIRE)--Stem Holdin...</td>\n",
              "      <td>NaN</td>\n",
              "      <td>1988f8f23641101314aafccc59f0de6c</td>\n",
              "      <td></td>\n",
              "      <td>NaN</td>\n",
              "      <td>[]</td>\n",
              "      <td>[]</td>\n",
              "      <td>0</td>\n",
              "      <td>2019-12-27T21:32:00+00:00</td>\n",
              "      <td>[]</td>\n",
              "      <td>{'id': 'businesswire', 'name': 'BusinessWire'}</td>\n",
              "      <td>[]</td>\n",
              "      <td>NaN</td>\n",
              "      <td>Stem Holdings Announces Proposed Warrant and D...</td>\n",
              "      <td>https://newsfilter.io/articles/stem-holdings-a...</td>\n",
              "      <td>NaN</td>\n",
              "      <td>NaN</td>\n",
              "      <td>NaN</td>\n",
              "      <td>NaN</td>\n",
              "      <td>NaN</td>\n",
              "    </tr>\n",
              "  </tbody>\n",
              "</table>\n",
              "<p>14699 rows × 24 columns</p>\n",
              "</div>"
            ],
            "text/plain": [
              "      author categories content  ... videoDuration videoType videoUrl\n",
              "0        NaN         []          ...           NaN       NaN      NaN\n",
              "1        NaN         []          ...           NaN       NaN      NaN\n",
              "2        NaN         []          ...           NaN       NaN      NaN\n",
              "3        NaN         []          ...           NaN       NaN      NaN\n",
              "4        NaN         []          ...           NaN       NaN      NaN\n",
              "...      ...        ...     ...  ...           ...       ...      ...\n",
              "14694    NaN         []          ...           NaN       NaN      NaN\n",
              "14695    NaN         []          ...           NaN       NaN      NaN\n",
              "14696    NaN         []          ...           NaN       NaN      NaN\n",
              "14697    NaN         []          ...           NaN       NaN      NaN\n",
              "14698    NaN         []          ...           NaN       NaN      NaN\n",
              "\n",
              "[14699 rows x 24 columns]"
            ]
          },
          "metadata": {
            "tags": []
          },
          "execution_count": 164
        }
      ]
    },
    {
      "cell_type": "code",
      "metadata": {
        "id": "pmQKCq8Un7d9",
        "colab_type": "code",
        "colab": {}
      },
      "source": [
        "input_df['input'] = input_df['title'] + '. ' + input_df['description']"
      ],
      "execution_count": 0,
      "outputs": []
    },
    {
      "cell_type": "code",
      "metadata": {
        "id": "MfjMV0_-oLLW",
        "colab_type": "code",
        "colab": {}
      },
      "source": [
        "input_df = input_df[['input','output']] "
      ],
      "execution_count": 0,
      "outputs": []
    },
    {
      "cell_type": "code",
      "metadata": {
        "id": "2Gh7Wy76ra1m",
        "colab_type": "code",
        "outputId": "a9f12e20-2975-48d7-9bba-af5a001349e6",
        "colab": {
          "base_uri": "https://localhost:8080/",
          "height": 419
        }
      },
      "source": [
        "input_df"
      ],
      "execution_count": 0,
      "outputs": [
        {
          "output_type": "execute_result",
          "data": {
            "text/html": [
              "<div>\n",
              "<style scoped>\n",
              "    .dataframe tbody tr th:only-of-type {\n",
              "        vertical-align: middle;\n",
              "    }\n",
              "\n",
              "    .dataframe tbody tr th {\n",
              "        vertical-align: top;\n",
              "    }\n",
              "\n",
              "    .dataframe thead th {\n",
              "        text-align: right;\n",
              "    }\n",
              "</style>\n",
              "<table border=\"1\" class=\"dataframe\">\n",
              "  <thead>\n",
              "    <tr style=\"text-align: right;\">\n",
              "      <th></th>\n",
              "      <th>input</th>\n",
              "      <th>output</th>\n",
              "    </tr>\n",
              "  </thead>\n",
              "  <tbody>\n",
              "    <tr>\n",
              "      <th>0</th>\n",
              "      <td>$213.92 Million in Sales Expected for Grand Ca...</td>\n",
              "      <td>1</td>\n",
              "    </tr>\n",
              "    <tr>\n",
              "      <th>1</th>\n",
              "      <td>$4.31 Billion in Sales Expected for Aramark (N...</td>\n",
              "      <td>1</td>\n",
              "    </tr>\n",
              "    <tr>\n",
              "      <th>2</th>\n",
              "      <td>$0.14 Earnings Per Share Expected for QuinStre...</td>\n",
              "      <td>1</td>\n",
              "    </tr>\n",
              "    <tr>\n",
              "      <th>3</th>\n",
              "      <td>Zacks: Analysts Expect Kindred Biosciences Inc...</td>\n",
              "      <td>1</td>\n",
              "    </tr>\n",
              "    <tr>\n",
              "      <th>4</th>\n",
              "      <td>Upwork Inc (NASDAQ:UPWK) Expected to Post Quar...</td>\n",
              "      <td>1</td>\n",
              "    </tr>\n",
              "    <tr>\n",
              "      <th>...</th>\n",
              "      <td>...</td>\n",
              "      <td>...</td>\n",
              "    </tr>\n",
              "    <tr>\n",
              "      <th>14694</th>\n",
              "      <td>Cascades Inc (OTCMKTS:CADNF) Receives Average ...</td>\n",
              "      <td>0</td>\n",
              "    </tr>\n",
              "    <tr>\n",
              "      <th>14695</th>\n",
              "      <td>Tc Pipelines Lp (TSE:TRP) Given Consensus Reco...</td>\n",
              "      <td>0</td>\n",
              "    </tr>\n",
              "    <tr>\n",
              "      <th>14696</th>\n",
              "      <td>Dollar Tree comments on TRC tender offer. Doll...</td>\n",
              "      <td>0</td>\n",
              "    </tr>\n",
              "    <tr>\n",
              "      <th>14697</th>\n",
              "      <td>The China Fund, Inc. Confirms Distributions. T...</td>\n",
              "      <td>0</td>\n",
              "    </tr>\n",
              "    <tr>\n",
              "      <th>14698</th>\n",
              "      <td>Stem Holdings Announces Proposed Warrant and D...</td>\n",
              "      <td>0</td>\n",
              "    </tr>\n",
              "  </tbody>\n",
              "</table>\n",
              "<p>14699 rows × 2 columns</p>\n",
              "</div>"
            ],
            "text/plain": [
              "                                                   input  output\n",
              "0      $213.92 Million in Sales Expected for Grand Ca...       1\n",
              "1      $4.31 Billion in Sales Expected for Aramark (N...       1\n",
              "2      $0.14 Earnings Per Share Expected for QuinStre...       1\n",
              "3      Zacks: Analysts Expect Kindred Biosciences Inc...       1\n",
              "4      Upwork Inc (NASDAQ:UPWK) Expected to Post Quar...       1\n",
              "...                                                  ...     ...\n",
              "14694  Cascades Inc (OTCMKTS:CADNF) Receives Average ...       0\n",
              "14695  Tc Pipelines Lp (TSE:TRP) Given Consensus Reco...       0\n",
              "14696  Dollar Tree comments on TRC tender offer. Doll...       0\n",
              "14697  The China Fund, Inc. Confirms Distributions. T...       0\n",
              "14698  Stem Holdings Announces Proposed Warrant and D...       0\n",
              "\n",
              "[14699 rows x 2 columns]"
            ]
          },
          "metadata": {
            "tags": []
          },
          "execution_count": 167
        }
      ]
    },
    {
      "cell_type": "code",
      "metadata": {
        "id": "fEJGz-FJreO1",
        "colab_type": "code",
        "outputId": "1277dcb0-37cf-4034-c8bb-96fb1c991ed8",
        "colab": {
          "base_uri": "https://localhost:8080/",
          "height": 102
        }
      },
      "source": [
        "input_df.dropna(inplace=True)"
      ],
      "execution_count": 0,
      "outputs": [
        {
          "output_type": "stream",
          "text": [
            "/usr/local/lib/python3.6/dist-packages/ipykernel_launcher.py:1: SettingWithCopyWarning: \n",
            "A value is trying to be set on a copy of a slice from a DataFrame\n",
            "\n",
            "See the caveats in the documentation: http://pandas.pydata.org/pandas-docs/stable/user_guide/indexing.html#returning-a-view-versus-a-copy\n",
            "  \"\"\"Entry point for launching an IPython kernel.\n"
          ],
          "name": "stderr"
        }
      ]
    },
    {
      "cell_type": "code",
      "metadata": {
        "id": "G2o4BRe6oPLP",
        "colab_type": "code",
        "outputId": "f46b901d-93de-455e-bc5e-26b0e73387e3",
        "colab": {
          "base_uri": "https://localhost:8080/",
          "height": 119
        }
      },
      "source": [
        "input_df['Cleaned_input'] = input_df['input'].apply(normalize, lowercase=True)"
      ],
      "execution_count": 0,
      "outputs": [
        {
          "output_type": "stream",
          "text": [
            "/usr/local/lib/python3.6/dist-packages/ipykernel_launcher.py:1: SettingWithCopyWarning: \n",
            "A value is trying to be set on a copy of a slice from a DataFrame.\n",
            "Try using .loc[row_indexer,col_indexer] = value instead\n",
            "\n",
            "See the caveats in the documentation: http://pandas.pydata.org/pandas-docs/stable/user_guide/indexing.html#returning-a-view-versus-a-copy\n",
            "  \"\"\"Entry point for launching an IPython kernel.\n"
          ],
          "name": "stderr"
        }
      ]
    },
    {
      "cell_type": "code",
      "metadata": {
        "id": "UtgBt6dLodmJ",
        "colab_type": "code",
        "outputId": "60917f33-d7c0-4b02-8282-360bd9531a5a",
        "colab": {
          "base_uri": "https://localhost:8080/",
          "height": 54
        }
      },
      "source": [
        "input_df['Cleaned_input'][0]"
      ],
      "execution_count": 0,
      "outputs": [
        {
          "output_type": "execute_result",
          "data": {
            "text/plain": [
              "'million sale expect grand canyon education inc nasdaq lope quarter analyst forecast grand canyon education inc nasdaq lope announce sale million current quarter accord zacks two analyst make estimate grand canyon education earnings'"
            ]
          },
          "metadata": {
            "tags": []
          },
          "execution_count": 171
        }
      ]
    },
    {
      "cell_type": "code",
      "metadata": {
        "id": "kHg560sgpXtY",
        "colab_type": "code",
        "outputId": "97612166-9aa6-4480-dccb-d47e0be9aed4",
        "colab": {
          "base_uri": "https://localhost:8080/",
          "height": 34
        }
      },
      "source": [
        "# Tokenize all of the sentences and map the tokens to thier word IDs.\n",
        "ids = []\n",
        "masks=[]\n",
        "segments=[]\n",
        "\n",
        "# For every sentence...\n",
        "for s in tqdm(input_df['Cleaned_input']):\n",
        "    \n",
        "    stokens = tokenizer.tokenize(s, lower= True)\n",
        "    stokens = stokens[0:30]\n",
        "    stokens = [\"[CLS]\"] + stokens + [\"[SEP]\"]\n",
        "\n",
        "    input_ids = get_ids(stokens, tokenizer, max_seq_length)\n",
        "    input_masks = get_masks(stokens, max_seq_length)\n",
        "    input_segments = get_segments(stokens, max_seq_length)\n",
        "\n",
        "    ids.append(input_ids)\n",
        "    masks.append(input_masks)\n",
        "    segments.append(input_segments)\n"
      ],
      "execution_count": 0,
      "outputs": [
        {
          "output_type": "stream",
          "text": [
            "100%|██████████| 14664/14664 [00:12<00:00, 1130.91it/s]\n"
          ],
          "name": "stderr"
        }
      ]
    },
    {
      "cell_type": "code",
      "metadata": {
        "id": "U_mtJNm5rmhY",
        "colab_type": "code",
        "colab": {}
      },
      "source": [
        "test_labels = input_df['output'].values"
      ],
      "execution_count": 0,
      "outputs": []
    },
    {
      "cell_type": "code",
      "metadata": {
        "id": "y-r3empvsGYX",
        "colab_type": "code",
        "outputId": "fe89fef8-e312-40ec-c694-2ccd924f2d10",
        "colab": {
          "base_uri": "https://localhost:8080/",
          "height": 34
        }
      },
      "source": [
        "len(test_labels)"
      ],
      "execution_count": 0,
      "outputs": [
        {
          "output_type": "execute_result",
          "data": {
            "text/plain": [
              "14664"
            ]
          },
          "metadata": {
            "tags": []
          },
          "execution_count": 181
        }
      ]
    },
    {
      "cell_type": "code",
      "metadata": {
        "id": "KNCXruqPsL-2",
        "colab_type": "code",
        "outputId": "ec93e69e-4c80-4e01-b45f-63e6fecace6f",
        "colab": {
          "base_uri": "https://localhost:8080/",
          "height": 34
        }
      },
      "source": [
        "ids.shape, segments.shape, masks.shape"
      ],
      "execution_count": 0,
      "outputs": [
        {
          "output_type": "execute_result",
          "data": {
            "text/plain": [
              "((14664, 64), (14664, 64), (14664, 64))"
            ]
          },
          "metadata": {
            "tags": []
          },
          "execution_count": 184
        }
      ]
    },
    {
      "cell_type": "code",
      "metadata": {
        "id": "qwknAIfXpe14",
        "colab_type": "code",
        "colab": {}
      },
      "source": [
        "ids = np.array(ids)\n",
        "masks = np.array(masks)\n",
        "segments = np.array(segments)"
      ],
      "execution_count": 0,
      "outputs": []
    },
    {
      "cell_type": "code",
      "metadata": {
        "id": "KVckBX82pPWr",
        "colab_type": "code",
        "colab": {}
      },
      "source": [
        "pred = model1.predict([ids, masks, segments])"
      ],
      "execution_count": 0,
      "outputs": []
    },
    {
      "cell_type": "code",
      "metadata": {
        "id": "OcPxtj2vsdHV",
        "colab_type": "code",
        "outputId": "8e64997d-ea8d-4578-fdc0-0c01cd08df5d",
        "colab": {
          "base_uri": "https://localhost:8080/",
          "height": 34
        }
      },
      "source": [
        "len(pred)"
      ],
      "execution_count": 0,
      "outputs": [
        {
          "output_type": "execute_result",
          "data": {
            "text/plain": [
              "14664"
            ]
          },
          "metadata": {
            "tags": []
          },
          "execution_count": 185
        }
      ]
    },
    {
      "cell_type": "code",
      "metadata": {
        "id": "xlEXE2-QpiYT",
        "colab_type": "code",
        "colab": {}
      },
      "source": [
        "predictions = []\n",
        "for i in pred:\n",
        "  predictions.append(int(tf.math.round(i).numpy()))"
      ],
      "execution_count": 0,
      "outputs": []
    },
    {
      "cell_type": "code",
      "metadata": {
        "id": "a70f7LiEptsj",
        "colab_type": "code",
        "colab": {}
      },
      "source": [
        "count =0 \n",
        "for i in range(len(predictions)):\n",
        "  if predictions[i] == test_labels[i]:\n",
        "    count +=1"
      ],
      "execution_count": 0,
      "outputs": []
    },
    {
      "cell_type": "code",
      "metadata": {
        "id": "OVTVcz8gsQh-",
        "colab_type": "code",
        "outputId": "6d6a24cb-701d-43a2-8ff0-0d5cada7ba9b",
        "colab": {
          "base_uri": "https://localhost:8080/",
          "height": 34
        }
      },
      "source": [
        "len(predictions)"
      ],
      "execution_count": 0,
      "outputs": [
        {
          "output_type": "execute_result",
          "data": {
            "text/plain": [
              "14664"
            ]
          },
          "metadata": {
            "tags": []
          },
          "execution_count": 188
        }
      ]
    },
    {
      "cell_type": "code",
      "metadata": {
        "id": "xxPFM-EWp0bl",
        "colab_type": "code",
        "outputId": "9ea37b54-586b-47e4-8340-b56475a64143",
        "colab": {
          "base_uri": "https://localhost:8080/",
          "height": 34
        }
      },
      "source": [
        "count/len(predictions)"
      ],
      "execution_count": 0,
      "outputs": [
        {
          "output_type": "execute_result",
          "data": {
            "text/plain": [
              "0.9329650845608293"
            ]
          },
          "metadata": {
            "tags": []
          },
          "execution_count": 189
        }
      ]
    },
    {
      "cell_type": "code",
      "metadata": {
        "id": "X90cn88rp7rs",
        "colab_type": "code",
        "outputId": "46474aa5-c91d-4e91-f4d1-1d4623ebc714",
        "colab": {
          "base_uri": "https://localhost:8080/",
          "height": 68
        }
      },
      "source": [
        "tf.math.confusion_matrix(labels=test_labels , predictions= predictions)"
      ],
      "execution_count": 0,
      "outputs": [
        {
          "output_type": "execute_result",
          "data": {
            "text/plain": [
              "<tf.Tensor: shape=(2, 2), dtype=int32, numpy=\n",
              "array([[4500,  332],\n",
              "       [ 651, 9181]], dtype=int32)>"
            ]
          },
          "metadata": {
            "tags": []
          },
          "execution_count": 190
        }
      ]
    },
    {
      "cell_type": "code",
      "metadata": {
        "id": "OW6rrTwLr_pX",
        "colab_type": "code",
        "colab": {}
      },
      "source": [
        ""
      ],
      "execution_count": 0,
      "outputs": []
    }
  ]
}